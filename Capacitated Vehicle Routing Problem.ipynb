{
 "cells": [
  {
   "cell_type": "markdown",
   "metadata": {},
   "source": [
    "# Capacitated Vehicle Routing Problem"
   ]
  },
  {
   "cell_type": "markdown",
   "metadata": {},
   "source": [
    "First, we import some useful python packages for solving the capacitated vehicle routing problem."
   ]
  },
  {
   "cell_type": "code",
   "execution_count": 2,
   "metadata": {},
   "outputs": [],
   "source": [
    "from IPython.display import display, HTML\n",
    "import openrouteservice\n",
    "import folium\n",
    "from shapely import wkt, geometry\n",
    "import json\n",
    "from pprint import pprint\n",
    "import numpy as np \n",
    "import pandas as pd\n",
    "import matplotlib.pyplot as plt\n",
    "import matplotlib.patches as mpatches\n",
    "%matplotlib inline"
   ]
  },
  {
   "cell_type": "markdown",
   "metadata": {},
   "source": [
    "# Setting up the problem"
   ]
  },
  {
   "cell_type": "markdown",
   "metadata": {},
   "source": [
    "For the capacitated vehicle routing problem we will use the dataset from \"Augerat, et al. Set A\" obtained at https://www.coin-or.org/SYMPHONY/branchandcut/VRP/data/index.htm.old#A. The dataset contains 32 nodes (including 1 depot) with their demands and 5 vehicles with a capacity of 100 each. We first import the dataset and extract the relevant information from the dataset. The following table shows the extracted data. The x-coordinates and y-coordinates represent the position of the nodes. The column \"demand\" shows the \"demanded order\" that needs to be delivered to the respective node. The node with zero demand is the depot (first node).  "
   ]
  },
  {
   "cell_type": "code",
   "execution_count": null,
   "metadata": {
    "collapsed": true
   },
   "outputs": [],
   "source": [
    "def str_to_num(lst_2d, num_type='int'):\n",
    "    for i, item in enumerate(lst_2d):\n",
    "        for j, num in enumerate(item):\n",
    "            if num_type == 'int':\n",
    "                lst_2d[i][j] = int(num)\n",
    "            elif num_type == 'float':\n",
    "                lst_2d[i][j] = float(num)\n",
    "    return lst_2d\n",
    "\n",
    "def read_file(file_path): # \"A-n32-k5.vrp\"\n",
    "    decider = 0 \n",
    "    nodes = []\n",
    "    demands = []\n",
    "    with open(file_path, 'r') as file:\n",
    "        for line in file:\n",
    "            if line == 'NODE_COORD_SECTION \\n':\n",
    "                decider = 1\n",
    "            elif line == 'DEMAND_SECTION \\n':\n",
    "                decider = 2\n",
    "            elif line == 'DEPOT_SECTION \\n':\n",
    "                decider = 0\n",
    "        \n",
    "            if decider == 0:\n",
    "                continue\n",
    "            elif decider == 1:\n",
    "                nodes.append(line.lstrip().rstrip().split(' '))\n",
    "            elif decider == 2:\n",
    "                demands.append(line.lstrip().rstrip().split(' '))\n",
    "    file.close()\n",
    "    nodes = np.delete(np.array(str_to_num(nodes[1:])), 0, 1)\n",
    "    demands = np.delete(np.array(str_to_num(demands[1:])), 0, 1)\n",
    "    data = np.concatenate((nodes, demands), axis=1)\n",
    "    return data"
   ]
  }
 ],
 "metadata": {
  "kernelspec": {
   "display_name": "Python 3",
   "language": "python",
   "name": "python3"
  },
  "language_info": {
   "codemirror_mode": {
    "name": "ipython",
    "version": 3
   },
   "file_extension": ".py",
   "mimetype": "text/x-python",
   "name": "python",
   "nbconvert_exporter": "python",
   "pygments_lexer": "ipython3",
   "version": "3.6.3"
  }
 },
 "nbformat": 4,
 "nbformat_minor": 2
}

{
 "cells": [
  {
   "cell_type": "markdown",
   "id": "a9adea66",
   "metadata": {},
   "source": [
    "# General"
   ]
  },
  {
   "cell_type": "markdown",
   "id": "8b1ab3e8",
   "metadata": {},
   "source": [
    "In this tutorial I will show you how to extract the peaks of openstreetmap files, calculate the routes to different parking spaces or train stations and save the map as a PNG file. Before you can start you have to prepare a few things:\n",
    "    \n",
    "    1) Create a folder \"maps\" in the direction where you execute the Python Script if you want to convert the HTML to PNG.\n",
    "    2) For a succesful running of the package selenium, you need to download a browser driver. I use chromedriver, but this up to you. For more information see: https://chromedriver.chromium.org/downloads . Be aware that your browser has the same version as the driver you want to download.\n",
    "\n",
    "The format for the locations is NAME (LON,LAT).\n",
    "\n",
    "Contribuded by Dr. Stephan Fuchs.\n",
    "\n"
   ]
  },
  {
   "cell_type": "markdown",
   "id": "4eae262a",
   "metadata": {},
   "source": [
    "# Get the coordinates of the peaks"
   ]
  },
  {
   "cell_type": "markdown",
   "id": "5a4e5ed0",
   "metadata": {},
   "source": [
    "Of course you can diretly download the peak data via Python commands. But this would be not the best solution in this case. Here were go to the web side http://overpass-turbo.eu/ and insert on the right side the following code: \n",
    "\n",
    "node[\"natural\"=\"peak\"]({{bbox}});out;\n",
    "\n",
    "This will find all geopoints which are labeled as peak. Now go to the right and select the area where you want to extract the peaks. Finally execute the command by clicking on \"Run\". Now it may take a few moments until the search finishes. Now click on data and save (via copy/save) the data as a GeoJson-File.\n",
    "\n"
   ]
  },
  {
   "cell_type": "code",
   "execution_count": null,
   "id": "0f4a4c2e",
   "metadata": {},
   "outputs": [],
   "source": [
    "# setup\n",
    "!mkdir peak-routing-parking-station\n",
    "!conda create -n peak-routing-parking-station python=3.9 shapely --yes\n",
    "!cd peak-routing-parking-station\n",
    "!pip install openrouteservice folium json Pillow"
   ]
  },
  {
   "cell_type": "code",
   "execution_count": 1,
   "id": "0c3660a6",
   "metadata": {},
   "outputs": [],
   "source": [
    "\"\"\"\n",
    "# Normally you save the peak data in a file. For better presentation of the data it is directly in the notebook.\n",
    "import json\n",
    "with open('export.geojson') as json_file:\n",
    "    data = json.load(json_file)\n",
    "\"\"\"\n",
    "\n",
    "\n",
    "\n",
    "data={\n",
    "  \"type\": \"FeatureCollection\",\n",
    "  \"generator\": \"overpass-ide\",\n",
    "  \"copyright\": \"The data included in this document is from www.openstreetmap.org. The data is made available under ODbL.\",\n",
    "  \"timestamp\": \"2021-06-25T15:50:42Z\",\n",
    "  \"features\": [\n",
    "    {\n",
    "      \"type\": \"Feature\",\n",
    "      \"properties\": {\n",
    "        \"@id\": \"node/251874697\",\n",
    "        \"climbing:grade:saxon:min\": \"VI\",\n",
    "        \"climbing:rock\": \"sandstone\",\n",
    "        \"climbing:summit_log\": \"yes\",\n",
    "        \"climbing:trad\": \"yes\",\n",
    "        \"name\": \"Herkuleskopf\",\n",
    "        \"natural\": \"peak\",\n",
    "        \"note\": \"check and delete this note if correct; object was imported from http://www.wandern-saechsische-schweiz.de/\",\n",
    "        \"sport\": \"climbing\"\n",
    "      },\n",
    "      \"geometry\": {\n",
    "        \"type\": \"Point\",\n",
    "        \"coordinates\": [\n",
    "          14.0429261,\n",
    "          50.8422103\n",
    "        ]\n",
    "      },\n",
    "      \"id\": \"node/251874697\"\n",
    "    },\n",
    "    {\n",
    "      \"type\": \"Feature\",\n",
    "      \"properties\": {\n",
    "        \"@id\": \"node/251874698\",\n",
    "        \"climbing:grade:saxon:min\": \"I\",\n",
    "        \"climbing:rock\": \"sandstone\",\n",
    "        \"climbing:summit_log\": \"yes\",\n",
    "        \"climbing:trad\": \"yes\",\n",
    "        \"name\": \"Herkuleswand\",\n",
    "        \"natural\": \"peak\",\n",
    "        \"sport\": \"climbing\"\n",
    "      },\n",
    "      \"geometry\": {\n",
    "        \"type\": \"Point\",\n",
    "        \"coordinates\": [\n",
    "          14.0434616,\n",
    "          50.84214\n",
    "        ]\n",
    "      },\n",
    "      \"id\": \"node/251874698\"\n",
    "    },\n",
    "    {\n",
    "      \"type\": \"Feature\",\n",
    "      \"properties\": {\n",
    "        \"@id\": \"node/251875051\",\n",
    "        \"climbing:grade:saxon:min\": \"III\",\n",
    "        \"climbing:rock\": \"sandstone\",\n",
    "        \"climbing:summit_log\": \"yes\",\n",
    "        \"climbing:trad\": \"yes\",\n",
    "        \"name\": \"Schluchtnadel\",\n",
    "        \"natural\": \"peak\",\n",
    "        \"sport\": \"climbing\"\n",
    "      },\n",
    "      \"geometry\": {\n",
    "        \"type\": \"Point\",\n",
    "        \"coordinates\": [\n",
    "          14.0433542,\n",
    "          50.8423971\n",
    "        ]\n",
    "      },\n",
    "      \"id\": \"node/251875051\"\n",
    "    }\n",
    "  ]\n",
    "}\n",
    "\n",
    "\n"
   ]
  },
  {
   "cell_type": "code",
   "execution_count": 5,
   "id": "03489f9c",
   "metadata": {},
   "outputs": [
    {
     "name": "stdout",
     "output_type": "stream",
     "text": [
      "Name: Herkuleskopf --- Coordinates [14.0429261, 50.8422103]\n",
      "Name: Herkuleswand --- Coordinates [14.0434616, 50.84214]\n",
      "Name: Schluchtnadel --- Coordinates [14.0433542, 50.8423971]\n"
     ]
    }
   ],
   "source": [
    "#Extracting the name and the coordinates of the geoJSON file.\n",
    "\n",
    "Peak_Names=[]\n",
    "Coordinates=[]\n",
    "for i in data[\"features\"]:\n",
    "    Peak_Names. append(i[\"properties\"][\"name\"])\n",
    "    Coordinates.append(i[\"geometry\"][\"coordinates\"])\n",
    "    print(\"Name:\",i[\"properties\"][\"name\"],\"--- Coordinates\",i[\"geometry\"][\"coordinates\"])\n"
   ]
  },
  {
   "cell_type": "markdown",
   "id": "ed2bada5",
   "metadata": {},
   "source": [
    "The starting points are in general a header in a Excel file. So the header is combined with starting location and coordinates in one string."
   ]
  },
  {
   "cell_type": "code",
   "execution_count": 7,
   "id": "f3fc63a1",
   "metadata": {},
   "outputs": [],
   "source": [
    "Starting_Points=[\"Parkplatz Zollhaus (50.832243,14.067760)\",\"Parkplatz Ottomühle (50.8391190, 14.0451675)\",\"Parkplatz Ostrov(50.8042060, 14.0466107)\"]"
   ]
  },
  {
   "cell_type": "markdown",
   "id": "08b5ab33-3e65-4eab-8196-9d4c6f6de073",
   "metadata": {},
   "source": [
    "# Calculate the routes"
   ]
  },
  {
   "cell_type": "code",
   "execution_count": 17,
   "id": "8229da09-3dd6-4167-82d7-2f0aaaba39ae",
   "metadata": {},
   "outputs": [],
   "source": [
    "import time\n",
    "import openrouteservice\n",
    "import re\n",
    "import folium\n",
    "\n",
    "#from openpyxl import load_workbook #used for EXCEL Sheet\n",
    "from PIL import Image"
   ]
  },
  {
   "cell_type": "markdown",
   "id": "2be58adb",
   "metadata": {},
   "source": [
    "For a succesful running of selenium, you need to download a browser driver. I use chrome, but this up to you. For more information see: https://chromedriver.chromium.org/downloads . Be aware that your browser has the same version as the driver you want to download."
   ]
  },
  {
   "cell_type": "code",
   "execution_count": 38,
   "id": "264a4fbc",
   "metadata": {},
   "outputs": [],
   "source": [
    "# The style for the plotted routes.\n",
    "def style_function(color): # To style data of the routes\n",
    "    return lambda feature: dict(color=color,opacity=0.9,weight=4,)\n",
    "\n",
    "\n",
    "# Extracts the coordinates of the parking places or trainstations\n",
    "def search_coordinates(text): #Extract Coordinates from Locationname (12.34,56.78)\n",
    "    p=re.compile(\"\\d+\\.\\d+\") #REGEX\n",
    "    koor=p.findall(text)\n",
    "    Name=text.split(\"(\")[0]\n",
    "    return (float(koor[1]),float(koor[0])),Name\n",
    "    \n",
    "\n",
    "# Calculate the distances between Start and Target. \n",
    "def calc_distances(Start,Target):\n",
    "    coords=(Start,Target)\n",
    "    client = openrouteservice.Client(key='INSERT-YOUR-API-KEY') # Specify your personal API key\n",
    "    calc_output = client.directions(coords,profile='foot-walking',geometry= 'true',format_out=\"geojson\")\n",
    "    distance =  round(calc_output[\"features\"][0][\"properties\"][\"summary\"][\"distance\"])\n",
    "    duration=   round(calc_output[\"features\"][0][\"properties\"][\"summary\"][\"duration\"]/60.)\n",
    "    print(\"Distance(m): \",distance,\" Duration(min): \",duration)\n",
    "    return int(distance), int(duration), calc_output \n",
    "\n",
    "\n",
    "# Calculate the margin of the map\n",
    "def calc_map_margin(lon_arr,lat_arr):\n",
    "    difference=0.0025 # Angle for decreasing size\n",
    "    lon_min=min(lon_arr)-difference # left/east\n",
    "    lon_max=max(lon_arr)+difference # right/west\n",
    "    lat_min=min(lat_arr)-difference # up/north\n",
    "    lat_max=max(lat_arr)+difference # down/south\n",
    "    return [(lat_min,lon_min),(lat_max,lon_max)]\n"
   ]
  },
  {
   "cell_type": "code",
   "execution_count": 45,
   "id": "66d6fe02-5b47-49f4-91bd-ed3cc3d6ffc1",
   "metadata": {},
   "outputs": [],
   "source": [
    "# Draws the routes, start and endpoints on the map and saves it as a HTML file.\n",
    "def show_route(Peak,routes_GPS_koor_1,routes_GPS_koor_2,routes_GPS_koor_3,Start_1,Start_2,Start_3,destination):    \n",
    "    bbox_margin=calc_map_margin([Start_1[0],Start_2[0],Start_3[0],destination[0]],[Start_1[1],Start_2[1],Start_3[1],destination[1]])\n",
    "    print(\"Margin of map: \",bbox_margin)\n",
    "    folium_base = folium.Map(location=(destination), zoom_start=16) # Create map\n",
    "    folium_base.fit_bounds(bbox_margin)\n",
    "    \n",
    "    #Draw Routes\n",
    "    folium.GeoJson(routes_GPS_koor_1,name='1 Route',style_function=style_function('blue'))  .add_to(folium_base)\n",
    "    folium.GeoJson(routes_GPS_koor_2,name='2 Route',style_function=style_function('red'))   .add_to(folium_base)\n",
    "    folium.GeoJson(routes_GPS_koor_3,name='3 Route',style_function=style_function('orange')).add_to(folium_base)\n",
    "\n",
    "    #Set Marker for Start/Target\n",
    "    folium.Marker(list(reversed(Start_1)), popup='Start_1',icon=folium.Icon(color='white',icon_color='blue',  icon='taxi',prefix='fa')).add_to(folium_base)\n",
    "    folium.Marker(list(reversed(Start_2)), popup='Start_2',icon=folium.Icon(color='white',icon_color='red',   icon='taxi',prefix='fa')).add_to(folium_base)\n",
    "    folium.Marker(list(reversed(Start_3)), popup='Start_3',icon=folium.Icon(color='white',icon_color='orange',icon='taxi',prefix='fa')).add_to(folium_base)\n",
    "    \n",
    "    # Draw Peak\n",
    "    folium.Marker(list(reversed(destination)),   popup='Target') .add_to(folium_base)\n",
    "\n",
    "    #folium_base.save(\"maps/\"+Peak+\".html\") #uncomment if you want save HTML and convert it to PNG\n",
    "    \n",
    "    return folium_base"
   ]
  },
  {
   "cell_type": "code",
   "execution_count": 46,
   "id": "6125a249-808d-48eb-8214-1f07e0c93050",
   "metadata": {},
   "outputs": [],
   "source": [
    "# Opens the browser, loads the HTML and saves the map as PNG.\n",
    "def HTML_TO_PNG(Peak):\n",
    "    from selenium import webdriver # used for opening the HTML and save as PNG\n",
    "    driver = webdriver.Chrome(executable_path=\"chromedriver\") #Path to the Chromedriver\n",
    "    driver.set_window_size(1000, 800)  # choose a resolution\n",
    "    driver.get(\"file:///Absolut/path/maps/\"+Peak+\".html\") #Where to find HTML, has to be the absolute path!!! \n",
    "    time.sleep(2) # Waiting time for page loading\n",
    "    driver.save_screenshot(\"maps/\"+Peak+\"_largemap.png\")    # Save Screenshot of HTML     \n",
    "    driver.quit() #close Chrome\n",
    "    \n",
    "    #Decrease Image Size (optional)\n",
    "    image = Image.open(\"maps/\"+Peak+\"_largemap.png\")\n",
    "    photo_size=1100\n",
    "    new_image = image.resize((photo_size, int(photo_size*1354./2000.)))\n",
    "    new_image.save(\"maps/\"+Peak+\"_map.png\")"
   ]
  },
  {
   "cell_type": "code",
   "execution_count": 47,
   "id": "655a8c67",
   "metadata": {},
   "outputs": [
    {
     "name": "stdout",
     "output_type": "stream",
     "text": [
      "---------------------------------------------\n",
      "Peak: Herkuleskopf\n",
      "Peak Coordinates: (14.0433542, 50.8423971) \n",
      "\n",
      "Start 1 from:  Parkplatz Zollhaus \n",
      "Starting Coordinates 1 (14.06776, 50.832243)\n",
      "Distance(m):  2840  Duration(min):  34\n",
      "\n",
      "Start 2 from:  Parkplatz Ottomühle \n",
      "Starting Coordinates 2 (14.0451675, 50.839119)\n",
      "Distance(m):  530  Duration(min):  6\n",
      "\n",
      "Start 3 from:  Parkplatz Ostrov\n",
      "Starting Coordinates 3 (14.0466107, 50.804206)\n",
      "Distance(m):  5531  Duration(min):  66\n",
      "\n",
      "Margin of map:  [(50.801706, 14.040426100000001), (50.844710299999996, 14.07026)]\n",
      "---------------------------------------------\n",
      "Peak: Herkuleswand\n",
      "Peak Coordinates: (14.0429261, 50.8422103) \n",
      "\n",
      "Start 1 from:  Parkplatz Zollhaus \n",
      "Starting Coordinates 1 (14.06776, 50.832243)\n",
      "Distance(m):  2807  Duration(min):  34\n",
      "\n",
      "Start 2 from:  Parkplatz Ottomühle \n",
      "Starting Coordinates 2 (14.0451675, 50.839119)\n",
      "Distance(m):  497  Duration(min):  6\n",
      "\n",
      "Start 3 from:  Parkplatz Ostrov\n",
      "Starting Coordinates 3 (14.0466107, 50.804206)\n",
      "Distance(m):  5498  Duration(min):  66\n",
      "\n",
      "Margin of map:  [(50.801706, 14.040961600000001), (50.84464, 14.07026)]\n",
      "---------------------------------------------\n",
      "Peak: Schluchtnadel\n",
      "Peak Coordinates: (14.0434616, 50.84214) \n",
      "\n",
      "Start 1 from:  Parkplatz Zollhaus \n",
      "Starting Coordinates 1 (14.06776, 50.832243)\n",
      "Distance(m):  2822  Duration(min):  34\n",
      "\n",
      "Start 2 from:  Parkplatz Ottomühle \n",
      "Starting Coordinates 2 (14.0451675, 50.839119)\n",
      "Distance(m):  512  Duration(min):  6\n",
      "\n",
      "Start 3 from:  Parkplatz Ostrov\n",
      "Starting Coordinates 3 (14.0466107, 50.804206)\n",
      "Distance(m):  5513  Duration(min):  66\n",
      "\n",
      "Margin of map:  [(50.801706, 14.0408542), (50.8448971, 14.07026)]\n"
     ]
    }
   ],
   "source": [
    "\n",
    "\n",
    "i=0\n",
    "while i<len(Peak_Names):\n",
    "    Peak=Peak_Names[i]\n",
    "    print(\"---------------------------------------------\")\n",
    "    print(\"Peak:\",Peak)\n",
    "    print(\"Peak Coordinates:\",Target,\"\\n\")\n",
    "    #Load GPS coordinates of the parkings spaces\n",
    "    Coordinates_Start_1,Name_Start_1=search_coordinates(Starting_Points[0])\n",
    "    Coordinates_Start_2,Name_Start_2=search_coordinates(Starting_Points[1])\n",
    "    Coordinates_Start_3,Name_Start_3=search_coordinates(Starting_Points[2])\n",
    "    \n",
    "    #Read Target/Peak GPS coordinations \n",
    "    LAT=str(Coordinates[i][0]) \n",
    "    LON=str(Coordinates[i][1])\n",
    "           \n",
    "    Target=(float(LAT),float(LON))\n",
    "    print(\"Start 1 from: \",Name_Start_1)\n",
    "    print(\"Starting Coordinates 1\", Coordinates_Start_1)\n",
    "    distance_1, duration_1,routes_GPS_koor_1=calc_distances(Coordinates_Start_1,Target)\n",
    "    print(\"\")\n",
    "\n",
    "    print(\"Start 2 from: \",Name_Start_2)\n",
    "    print(\"Starting Coordinates 2\", Coordinates_Start_2)\n",
    "    distance_2, duration_2,routes_GPS_koor_2=calc_distances(Coordinates_Start_2,Target)\n",
    "    print(\"\")\n",
    "    \n",
    "    print(\"Start 3 from: \",Name_Start_3)\n",
    "    print(\"Starting Coordinates 3\", Coordinates_Start_3)\n",
    "    distance_3, duration_3,routes_GPS_koor_3=calc_distances(Coordinates_Start_3,Target)\n",
    "    print(\"\")\n",
    "    \n",
    "    \n",
    "    #Calculate Routes\n",
    "    \"\"\"\n",
    "    distance_1, duration_1,routes_GPS_koor_1=calc_distances(Coordinates_Start_1,Target)\n",
    "    distance_2, duration_2,routes_GPS_koor_2=calc_distances(Coordinates_Start_2,Target)\n",
    "    distance_3, duration_3,routes_GPS_koor_3=calc_distances(Coordinates_Start_3,Target)\n",
    "    \"\"\"\n",
    "    #Show Route on HTML    \n",
    "    folium_base=show_route(Peak,routes_GPS_koor_1,routes_GPS_koor_2,routes_GPS_koor_3,Start_1,Start_2,Start_3,Target)\n",
    "\n",
    "    #Save HTML as PNG\n",
    "    #HTML_TO_PNG(Peak) # Optional: Save HTML as PNG. It is commented out to enable it for online use.   \n",
    "                            \n",
    "    i=i+1\n",
    "\n"
   ]
  },
  {
   "cell_type": "code",
   "execution_count": 48,
   "id": "13bc173b",
   "metadata": {},
   "outputs": [
    {
     "data": {
      "text/html": [
       "<div style=\"width:100%;\"><div style=\"position:relative;width:100%;height:0;padding-bottom:60%;\"><span style=\"color:#565656\">Make this Notebook Trusted to load map: File -> Trust Notebook</span><iframe src=\"about:blank\" style=\"position:absolute;width:100%;height:100%;left:0;top:0;border:none !important;\" data-html=%3C%21DOCTYPE%20html%3E%0A%3Chead%3E%20%20%20%20%0A%20%20%20%20%3Cmeta%20http-equiv%3D%22content-type%22%20content%3D%22text/html%3B%20charset%3DUTF-8%22%20/%3E%0A%20%20%20%20%0A%20%20%20%20%20%20%20%20%3Cscript%3E%0A%20%20%20%20%20%20%20%20%20%20%20%20L_NO_TOUCH%20%3D%20false%3B%0A%20%20%20%20%20%20%20%20%20%20%20%20L_DISABLE_3D%20%3D%20false%3B%0A%20%20%20%20%20%20%20%20%3C/script%3E%0A%20%20%20%20%0A%20%20%20%20%3Cstyle%3Ehtml%2C%20body%20%7Bwidth%3A%20100%25%3Bheight%3A%20100%25%3Bmargin%3A%200%3Bpadding%3A%200%3B%7D%3C/style%3E%0A%20%20%20%20%3Cstyle%3E%23map%20%7Bposition%3Aabsolute%3Btop%3A0%3Bbottom%3A0%3Bright%3A0%3Bleft%3A0%3B%7D%3C/style%3E%0A%20%20%20%20%3Cscript%20src%3D%22https%3A//cdn.jsdelivr.net/npm/leaflet%401.6.0/dist/leaflet.js%22%3E%3C/script%3E%0A%20%20%20%20%3Cscript%20src%3D%22https%3A//code.jquery.com/jquery-1.12.4.min.js%22%3E%3C/script%3E%0A%20%20%20%20%3Cscript%20src%3D%22https%3A//maxcdn.bootstrapcdn.com/bootstrap/3.2.0/js/bootstrap.min.js%22%3E%3C/script%3E%0A%20%20%20%20%3Cscript%20src%3D%22https%3A//cdnjs.cloudflare.com/ajax/libs/Leaflet.awesome-markers/2.0.2/leaflet.awesome-markers.js%22%3E%3C/script%3E%0A%20%20%20%20%3Clink%20rel%3D%22stylesheet%22%20href%3D%22https%3A//cdn.jsdelivr.net/npm/leaflet%401.6.0/dist/leaflet.css%22/%3E%0A%20%20%20%20%3Clink%20rel%3D%22stylesheet%22%20href%3D%22https%3A//maxcdn.bootstrapcdn.com/bootstrap/3.2.0/css/bootstrap.min.css%22/%3E%0A%20%20%20%20%3Clink%20rel%3D%22stylesheet%22%20href%3D%22https%3A//maxcdn.bootstrapcdn.com/bootstrap/3.2.0/css/bootstrap-theme.min.css%22/%3E%0A%20%20%20%20%3Clink%20rel%3D%22stylesheet%22%20href%3D%22https%3A//maxcdn.bootstrapcdn.com/font-awesome/4.6.3/css/font-awesome.min.css%22/%3E%0A%20%20%20%20%3Clink%20rel%3D%22stylesheet%22%20href%3D%22https%3A//cdnjs.cloudflare.com/ajax/libs/Leaflet.awesome-markers/2.0.2/leaflet.awesome-markers.css%22/%3E%0A%20%20%20%20%3Clink%20rel%3D%22stylesheet%22%20href%3D%22https%3A//cdn.jsdelivr.net/gh/python-visualization/folium/folium/templates/leaflet.awesome.rotate.min.css%22/%3E%0A%20%20%20%20%0A%20%20%20%20%20%20%20%20%20%20%20%20%3Cmeta%20name%3D%22viewport%22%20content%3D%22width%3Ddevice-width%2C%0A%20%20%20%20%20%20%20%20%20%20%20%20%20%20%20%20initial-scale%3D1.0%2C%20maximum-scale%3D1.0%2C%20user-scalable%3Dno%22%20/%3E%0A%20%20%20%20%20%20%20%20%20%20%20%20%3Cstyle%3E%0A%20%20%20%20%20%20%20%20%20%20%20%20%20%20%20%20%23map_6e8d55d783174d5eae83c360ae24d563%20%7B%0A%20%20%20%20%20%20%20%20%20%20%20%20%20%20%20%20%20%20%20%20position%3A%20relative%3B%0A%20%20%20%20%20%20%20%20%20%20%20%20%20%20%20%20%20%20%20%20width%3A%20100.0%25%3B%0A%20%20%20%20%20%20%20%20%20%20%20%20%20%20%20%20%20%20%20%20height%3A%20100.0%25%3B%0A%20%20%20%20%20%20%20%20%20%20%20%20%20%20%20%20%20%20%20%20left%3A%200.0%25%3B%0A%20%20%20%20%20%20%20%20%20%20%20%20%20%20%20%20%20%20%20%20top%3A%200.0%25%3B%0A%20%20%20%20%20%20%20%20%20%20%20%20%20%20%20%20%7D%0A%20%20%20%20%20%20%20%20%20%20%20%20%3C/style%3E%0A%20%20%20%20%20%20%20%20%0A%3C/head%3E%0A%3Cbody%3E%20%20%20%20%0A%20%20%20%20%0A%20%20%20%20%20%20%20%20%20%20%20%20%3Cdiv%20class%3D%22folium-map%22%20id%3D%22map_6e8d55d783174d5eae83c360ae24d563%22%20%3E%3C/div%3E%0A%20%20%20%20%20%20%20%20%0A%3C/body%3E%0A%3Cscript%3E%20%20%20%20%0A%20%20%20%20%0A%20%20%20%20%20%20%20%20%20%20%20%20var%20map_6e8d55d783174d5eae83c360ae24d563%20%3D%20L.map%28%0A%20%20%20%20%20%20%20%20%20%20%20%20%20%20%20%20%22map_6e8d55d783174d5eae83c360ae24d563%22%2C%0A%20%20%20%20%20%20%20%20%20%20%20%20%20%20%20%20%7B%0A%20%20%20%20%20%20%20%20%20%20%20%20%20%20%20%20%20%20%20%20center%3A%20%5B14.0433542%2C%2050.8423971%5D%2C%0A%20%20%20%20%20%20%20%20%20%20%20%20%20%20%20%20%20%20%20%20crs%3A%20L.CRS.EPSG3857%2C%0A%20%20%20%20%20%20%20%20%20%20%20%20%20%20%20%20%20%20%20%20zoom%3A%2016%2C%0A%20%20%20%20%20%20%20%20%20%20%20%20%20%20%20%20%20%20%20%20zoomControl%3A%20true%2C%0A%20%20%20%20%20%20%20%20%20%20%20%20%20%20%20%20%20%20%20%20preferCanvas%3A%20false%2C%0A%20%20%20%20%20%20%20%20%20%20%20%20%20%20%20%20%7D%0A%20%20%20%20%20%20%20%20%20%20%20%20%29%3B%0A%0A%20%20%20%20%20%20%20%20%20%20%20%20%0A%0A%20%20%20%20%20%20%20%20%0A%20%20%20%20%0A%20%20%20%20%20%20%20%20%20%20%20%20var%20tile_layer_f87cfff3823340db8ce96bb81465b20e%20%3D%20L.tileLayer%28%0A%20%20%20%20%20%20%20%20%20%20%20%20%20%20%20%20%22https%3A//%7Bs%7D.tile.openstreetmap.org/%7Bz%7D/%7Bx%7D/%7By%7D.png%22%2C%0A%20%20%20%20%20%20%20%20%20%20%20%20%20%20%20%20%7B%22attribution%22%3A%20%22Data%20by%20%5Cu0026copy%3B%20%5Cu003ca%20href%3D%5C%22http%3A//openstreetmap.org%5C%22%5Cu003eOpenStreetMap%5Cu003c/a%5Cu003e%2C%20under%20%5Cu003ca%20href%3D%5C%22http%3A//www.openstreetmap.org/copyright%5C%22%5Cu003eODbL%5Cu003c/a%5Cu003e.%22%2C%20%22detectRetina%22%3A%20false%2C%20%22maxNativeZoom%22%3A%2018%2C%20%22maxZoom%22%3A%2018%2C%20%22minZoom%22%3A%200%2C%20%22noWrap%22%3A%20false%2C%20%22opacity%22%3A%201%2C%20%22subdomains%22%3A%20%22abc%22%2C%20%22tms%22%3A%20false%7D%0A%20%20%20%20%20%20%20%20%20%20%20%20%29.addTo%28map_6e8d55d783174d5eae83c360ae24d563%29%3B%0A%20%20%20%20%20%20%20%20%0A%20%20%20%20%0A%20%20%20%20%20%20%20%20%20%20%20%20map_6e8d55d783174d5eae83c360ae24d563.fitBounds%28%0A%20%20%20%20%20%20%20%20%20%20%20%20%20%20%20%20%5B%5B50.801706%2C%2014.0408542%5D%2C%20%5B50.8448971%2C%2014.07026%5D%5D%2C%0A%20%20%20%20%20%20%20%20%20%20%20%20%20%20%20%20%7B%7D%0A%20%20%20%20%20%20%20%20%20%20%20%20%29%3B%0A%20%20%20%20%20%20%20%20%0A%20%20%20%20%0A%20%20%20%20%20%20%20%20function%20geo_json_36e36fd4122a438f9e4a5dc08be81265_styler%28feature%29%20%7B%0A%20%20%20%20%20%20%20%20%20%20%20%20switch%28feature.id%29%20%7B%0A%20%20%20%20%20%20%20%20%20%20%20%20%20%20%20%20default%3A%0A%20%20%20%20%20%20%20%20%20%20%20%20%20%20%20%20%20%20%20%20return%20%7B%22color%22%3A%20%22blue%22%2C%20%22opacity%22%3A%200.9%2C%20%22weight%22%3A%204%7D%3B%0A%20%20%20%20%20%20%20%20%20%20%20%20%7D%0A%20%20%20%20%20%20%20%20%7D%0A%0A%20%20%20%20%20%20%20%20function%20geo_json_36e36fd4122a438f9e4a5dc08be81265_onEachFeature%28feature%2C%20layer%29%20%7B%0A%20%20%20%20%20%20%20%20%20%20%20%20layer.on%28%7B%0A%20%20%20%20%20%20%20%20%20%20%20%20%7D%29%3B%0A%20%20%20%20%20%20%20%20%7D%3B%0A%20%20%20%20%20%20%20%20var%20geo_json_36e36fd4122a438f9e4a5dc08be81265%20%3D%20L.geoJson%28null%2C%20%7B%0A%20%20%20%20%20%20%20%20%20%20%20%20%20%20%20%20onEachFeature%3A%20geo_json_36e36fd4122a438f9e4a5dc08be81265_onEachFeature%2C%0A%20%20%20%20%20%20%20%20%20%20%20%20%0A%20%20%20%20%20%20%20%20%20%20%20%20%20%20%20%20style%3A%20geo_json_36e36fd4122a438f9e4a5dc08be81265_styler%2C%0A%20%20%20%20%20%20%20%20%7D%29%3B%0A%0A%20%20%20%20%20%20%20%20function%20geo_json_36e36fd4122a438f9e4a5dc08be81265_add%20%28data%29%20%7B%0A%20%20%20%20%20%20%20%20%20%20%20%20geo_json_36e36fd4122a438f9e4a5dc08be81265%0A%20%20%20%20%20%20%20%20%20%20%20%20%20%20%20%20.addData%28data%29%0A%20%20%20%20%20%20%20%20%20%20%20%20%20%20%20%20.addTo%28map_6e8d55d783174d5eae83c360ae24d563%29%3B%0A%20%20%20%20%20%20%20%20%7D%0A%20%20%20%20%20%20%20%20%20%20%20%20geo_json_36e36fd4122a438f9e4a5dc08be81265_add%28%7B%22bbox%22%3A%20%5B14.043308%2C%2050.832243%2C%2014.068038%2C%2050.842292%5D%2C%20%22features%22%3A%20%5B%7B%22bbox%22%3A%20%5B14.043308%2C%2050.832243%2C%2014.068038%2C%2050.842292%5D%2C%20%22geometry%22%3A%20%7B%22coordinates%22%3A%20%5B%5B14.06776%2C%2050.832243%5D%2C%20%5B14.06801%2C%2050.833156%5D%2C%20%5B14.068038%2C%2050.833282%5D%2C%20%5B14.068018%2C%2050.83349%5D%2C%20%5B14.067979%2C%2050.83358%5D%2C%20%5B14.067495%2C%2050.834806%5D%2C%20%5B14.067405%2C%2050.834968%5D%2C%20%5B14.067213%2C%2050.835172%5D%2C%20%5B14.066511%2C%2050.835751%5D%2C%20%5B14.066418%2C%2050.835878%5D%2C%20%5B14.066373%2C%2050.835969%5D%2C%20%5B14.065912%2C%2050.837646%5D%2C%20%5B14.065857%2C%2050.837828%5D%2C%20%5B14.065607%2C%2050.837868%5D%2C%20%5B14.065558%2C%2050.837855%5D%2C%20%5B14.065413%2C%2050.837852%5D%2C%20%5B14.065342%2C%2050.837885%5D%2C%20%5B14.065303%2C%2050.837926%5D%2C%20%5B14.065034%2C%2050.837926%5D%2C%20%5B14.065032%2C%2050.838064%5D%2C%20%5B14.065019%2C%2050.838138%5D%2C%20%5B14.064967%2C%2050.838195%5D%2C%20%5B14.064888%2C%2050.838222%5D%2C%20%5B14.064573%2C%2050.83822%5D%2C%20%5B14.064576%2C%2050.838306%5D%2C%20%5B14.064358%2C%2050.838273%5D%2C%20%5B14.063776%2C%2050.838157%5D%2C%20%5B14.060291%2C%2050.837469%5D%2C%20%5B14.05874%2C%2050.836993%5D%2C%20%5B14.058442%2C%2050.836889%5D%2C%20%5B14.058281%2C%2050.836788%5D%2C%20%5B14.058094%2C%2050.836692%5D%2C%20%5B14.057699%2C%2050.836566%5D%2C%20%5B14.05671%2C%2050.836315%5D%2C%20%5B14.056125%2C%2050.836185%5D%2C%20%5B14.055905%2C%2050.836274%5D%2C%20%5B14.054353%2C%2050.837197%5D%2C%20%5B14.053865%2C%2050.837514%5D%2C%20%5B14.053705%2C%2050.837619%5D%2C%20%5B14.053145%2C%2050.837517%5D%2C%20%5B14.052916%2C%2050.837492%5D%2C%20%5B14.052297%2C%2050.837551%5D%2C%20%5B14.052165%2C%2050.83754%5D%2C%20%5B14.052047%2C%2050.837492%5D%2C%20%5B14.051915%2C%2050.837353%5D%2C%20%5B14.051871%2C%2050.83729%5D%2C%20%5B14.05168%2C%2050.837303%5D%2C%20%5B14.051369%2C%2050.837286%5D%2C%20%5B14.051015%2C%2050.837259%5D%2C%20%5B14.050835%2C%2050.837224%5D%2C%20%5B14.050715%2C%2050.837221%5D%2C%20%5B14.050561%2C%2050.837264%5D%2C%20%5B14.050445%2C%2050.837327%5D%2C%20%5B14.050221%2C%2050.837446%5D%2C%20%5B14.05011%2C%2050.837528%5D%2C%20%5B14.049909%2C%2050.837613%5D%2C%20%5B14.049663%2C%2050.838086%5D%2C%20%5B14.049599%2C%2050.838251%5D%2C%20%5B14.04943%2C%2050.838376%5D%2C%20%5B14.04928%2C%2050.83832%5D%2C%20%5B14.049132%2C%2050.838105%5D%2C%20%5B14.048801%2C%2050.837933%5D%2C%20%5B14.048588%2C%2050.837952%5D%2C%20%5B14.048467%2C%2050.838042%5D%2C%20%5B14.048326%2C%2050.838436%5D%2C%20%5B14.047993%2C%2050.838658%5D%2C%20%5B14.047736%2C%2050.838796%5D%2C%20%5B14.047689%2C%2050.839018%5D%2C%20%5B14.04741%2C%2050.839238%5D%2C%20%5B14.047349%2C%2050.839353%5D%2C%20%5B14.047091%2C%2050.839397%5D%2C%20%5B14.046828%2C%2050.839527%5D%2C%20%5B14.046595%2C%2050.839452%5D%2C%20%5B14.046471%2C%2050.839645%5D%2C%20%5B14.04616%2C%2050.839622%5D%2C%20%5B14.045943%2C%2050.839789%5D%2C%20%5B14.04594%2C%2050.839894%5D%2C%20%5B14.045889%2C%2050.840171%5D%2C%20%5B14.045827%2C%2050.840292%5D%2C%20%5B14.045674%2C%2050.840496%5D%2C%20%5B14.045495%2C%2050.840627%5D%2C%20%5B14.045397%2C%2050.840693%5D%2C%20%5B14.045341%2C%2050.840861%5D%2C%20%5B14.045159%2C%2050.841066%5D%2C%20%5B14.045007%2C%2050.841171%5D%2C%20%5B14.044807%2C%2050.841337%5D%2C%20%5B14.044679%2C%2050.84142%5D%2C%20%5B14.044581%2C%2050.841443%5D%2C%20%5B14.044497%2C%2050.841444%5D%2C%20%5B14.04448%2C%2050.841523%5D%2C%20%5B14.044373%2C%2050.841549%5D%2C%20%5B14.044334%2C%2050.841574%5D%2C%20%5B14.044345%2C%2050.841636%5D%2C%20%5B14.044242%2C%2050.841692%5D%2C%20%5B14.044102%2C%2050.841823%5D%2C%20%5B14.044139%2C%2050.841842%5D%2C%20%5B14.044117%2C%2050.841893%5D%2C%20%5B14.044171%2C%2050.841907%5D%2C%20%5B14.044005%2C%2050.84208%5D%2C%20%5B14.043946%2C%2050.842118%5D%2C%20%5B14.043825%2C%2050.842128%5D%2C%20%5B14.043699%2C%2050.842204%5D%2C%20%5B14.043542%2C%2050.842251%5D%2C%20%5B14.043308%2C%2050.842292%5D%5D%2C%20%22type%22%3A%20%22LineString%22%7D%2C%20%22id%22%3A%20%220%22%2C%20%22properties%22%3A%20%7B%22segments%22%3A%20%5B%7B%22distance%22%3A%202822.1%2C%20%22duration%22%3A%202031.9%2C%20%22steps%22%3A%20%5B%7B%22distance%22%3A%20655.1%2C%20%22duration%22%3A%20471.7%2C%20%22instruction%22%3A%20%22Head%20north%20on%20K%5Cu00f6nigsteiner%20Stra%5Cu00dfe%22%2C%20%22name%22%3A%20%22K%5Cu00f6nigsteiner%20Stra%5Cu00dfe%22%2C%20%22type%22%3A%2011%2C%20%22way_points%22%3A%20%5B0%2C%2012%5D%7D%2C%20%7B%22distance%22%3A%2018.1%2C%20%22duration%22%3A%2013.0%2C%20%22instruction%22%3A%20%22Turn%20left%22%2C%20%22name%22%3A%20%22-%22%2C%20%22type%22%3A%200%2C%20%22way_points%22%3A%20%5B12%2C%2013%5D%7D%2C%20%7B%22distance%22%3A%2025.6%2C%20%22duration%22%3A%2018.4%2C%20%22instruction%22%3A%20%22Turn%20slight%20left%22%2C%20%22name%22%3A%20%22-%22%2C%20%22type%22%3A%204%2C%20%22way_points%22%3A%20%5B13%2C%2017%5D%7D%2C%20%7B%22distance%22%3A%2087.8%2C%20%22duration%22%3A%2063.2%2C%20%22instruction%22%3A%20%22Turn%20left%22%2C%20%22name%22%3A%20%22-%22%2C%20%22type%22%3A%200%2C%20%22way_points%22%3A%20%5B17%2C%2024%5D%7D%2C%20%7B%22distance%22%3A%20460.0%2C%20%22duration%22%3A%20331.2%2C%20%22instruction%22%3A%20%22Turn%20sharp%20left%22%2C%20%22name%22%3A%20%22-%22%2C%20%22type%22%3A%202%2C%20%22way_points%22%3A%20%5B24%2C%2029%5D%7D%2C%20%7B%22distance%22%3A%20182.4%2C%20%22duration%22%3A%20131.3%2C%20%22instruction%22%3A%20%22Turn%20slight%20left%20onto%20M%5Cu00fchlweg%22%2C%20%22name%22%3A%20%22M%5Cu00fchlweg%22%2C%20%22type%22%3A%204%2C%20%22way_points%22%3A%20%5B29%2C%2034%5D%7D%2C%20%7B%22distance%22%3A%20233.4%2C%20%22duration%22%3A%20168.0%2C%20%22instruction%22%3A%20%22Turn%20right%22%2C%20%22name%22%3A%20%22-%22%2C%20%22type%22%3A%201%2C%20%22way_points%22%3A%20%5B34%2C%2038%5D%7D%2C%20%7B%22distance%22%3A%20146.1%2C%20%22duration%22%3A%20105.2%2C%20%22instruction%22%3A%20%22Turn%20left%22%2C%20%22name%22%3A%20%22-%22%2C%20%22type%22%3A%200%2C%20%22way_points%22%3A%20%5B38%2C%2045%5D%7D%2C%20%7B%22distance%22%3A%20154.2%2C%20%22duration%22%3A%20111.0%2C%20%22instruction%22%3A%20%22Turn%20right%22%2C%20%22name%22%3A%20%22-%22%2C%20%22type%22%3A%201%2C%20%22way_points%22%3A%20%5B45%2C%2055%5D%7D%2C%20%7B%22distance%22%3A%2092.6%2C%20%22duration%22%3A%2066.7%2C%20%22instruction%22%3A%20%22Turn%20slight%20right%22%2C%20%22name%22%3A%20%22-%22%2C%20%22type%22%3A%205%2C%20%22way_points%22%3A%20%5B55%2C%2058%5D%7D%2C%20%7B%22distance%22%3A%2083.5%2C%20%22duration%22%3A%2060.1%2C%20%22instruction%22%3A%20%22Turn%20left%22%2C%20%22name%22%3A%20%22-%22%2C%20%22type%22%3A%200%2C%20%22way_points%22%3A%20%5B58%2C%2062%5D%7D%2C%20%7B%22distance%22%3A%20185.4%2C%20%22duration%22%3A%20133.5%2C%20%22instruction%22%3A%20%22Turn%20slight%20right%22%2C%20%22name%22%3A%20%22-%22%2C%20%22type%22%3A%205%2C%20%22way_points%22%3A%20%5B62%2C%2069%5D%7D%2C%20%7B%22distance%22%3A%2060.6%2C%20%22duration%22%3A%2043.6%2C%20%22instruction%22%3A%20%22Turn%20left%22%2C%20%22name%22%3A%20%22-%22%2C%20%22type%22%3A%200%2C%20%22way_points%22%3A%20%5B69%2C%2072%5D%7D%2C%20%7B%22distance%22%3A%2069.2%2C%20%22duration%22%3A%2049.8%2C%20%22instruction%22%3A%20%22Turn%20right%22%2C%20%22name%22%3A%20%22-%22%2C%20%22type%22%3A%201%2C%20%22way_points%22%3A%20%5B72%2C%2075%5D%7D%2C%20%7B%22distance%22%3A%20221.6%2C%20%22duration%22%3A%20159.5%2C%20%22instruction%22%3A%20%22Turn%20slight%20right%22%2C%20%22name%22%3A%20%22-%22%2C%20%22type%22%3A%205%2C%20%22way_points%22%3A%20%5B75%2C%2088%5D%7D%2C%20%7B%22distance%22%3A%208.8%2C%20%22duration%22%3A%206.4%2C%20%22instruction%22%3A%20%22Turn%20right%22%2C%20%22name%22%3A%20%22-%22%2C%20%22type%22%3A%201%2C%20%22way_points%22%3A%20%5B88%2C%2089%5D%7D%2C%20%7B%22distance%22%3A%2049.4%2C%20%22duration%22%3A%2035.5%2C%20%22instruction%22%3A%20%22Turn%20left%22%2C%20%22name%22%3A%20%22-%22%2C%20%22type%22%3A%200%2C%20%22way_points%22%3A%20%5B89%2C%2095%5D%7D%2C%20%7B%22distance%22%3A%209.9%2C%20%22duration%22%3A%207.1%2C%20%22instruction%22%3A%20%22Turn%20left%22%2C%20%22name%22%3A%20%22-%22%2C%20%22type%22%3A%200%2C%20%22way_points%22%3A%20%5B95%2C%2097%5D%7D%2C%20%7B%22distance%22%3A%2036.9%2C%20%22duration%22%3A%2026.6%2C%20%22instruction%22%3A%20%22Turn%20left%22%2C%20%22name%22%3A%20%22-%22%2C%20%22type%22%3A%200%2C%20%22way_points%22%3A%20%5B97%2C%20100%5D%7D%2C%20%7B%22distance%22%3A%2041.5%2C%20%22duration%22%3A%2029.9%2C%20%22instruction%22%3A%20%22Turn%20slight%20right%22%2C%20%22name%22%3A%20%22-%22%2C%20%22type%22%3A%205%2C%20%22way_points%22%3A%20%5B100%2C%20103%5D%7D%2C%20%7B%22distance%22%3A%200.0%2C%20%22duration%22%3A%200.0%2C%20%22instruction%22%3A%20%22Arrive%20at%20your%20destination%2C%20on%20the%20right%22%2C%20%22name%22%3A%20%22-%22%2C%20%22type%22%3A%2010%2C%20%22way_points%22%3A%20%5B103%2C%20103%5D%7D%5D%7D%5D%2C%20%22summary%22%3A%20%7B%22distance%22%3A%202822.1%2C%20%22duration%22%3A%202031.9%7D%2C%20%22way_points%22%3A%20%5B0%2C%20103%5D%7D%2C%20%22type%22%3A%20%22Feature%22%7D%5D%2C%20%22metadata%22%3A%20%7B%22attribution%22%3A%20%22openrouteservice.org%20%7C%20OpenStreetMap%20contributors%22%2C%20%22engine%22%3A%20%7B%22build_date%22%3A%20%222021-05-17T12%3A08%3A50Z%22%2C%20%22graph_date%22%3A%20%222021-06-15T02%3A09%3A15Z%22%2C%20%22version%22%3A%20%226.5.0%22%7D%2C%20%22query%22%3A%20%7B%22coordinates%22%3A%20%5B%5B14.06776%2C%2050.832243%5D%2C%20%5B14.0433542%2C%2050.8423971%5D%5D%2C%20%22format%22%3A%20%22geojson%22%2C%20%22geometry%22%3A%20true%2C%20%22profile%22%3A%20%22foot-walking%22%7D%2C%20%22service%22%3A%20%22routing%22%2C%20%22timestamp%22%3A%201624639198743%7D%2C%20%22type%22%3A%20%22FeatureCollection%22%7D%29%3B%0A%0A%20%20%20%20%20%20%20%20%0A%20%20%20%20%0A%20%20%20%20%20%20%20%20function%20geo_json_1019a740d33244a9b7c35a23b878ef0e_styler%28feature%29%20%7B%0A%20%20%20%20%20%20%20%20%20%20%20%20switch%28feature.id%29%20%7B%0A%20%20%20%20%20%20%20%20%20%20%20%20%20%20%20%20default%3A%0A%20%20%20%20%20%20%20%20%20%20%20%20%20%20%20%20%20%20%20%20return%20%7B%22color%22%3A%20%22red%22%2C%20%22opacity%22%3A%200.9%2C%20%22weight%22%3A%204%7D%3B%0A%20%20%20%20%20%20%20%20%20%20%20%20%7D%0A%20%20%20%20%20%20%20%20%7D%0A%0A%20%20%20%20%20%20%20%20function%20geo_json_1019a740d33244a9b7c35a23b878ef0e_onEachFeature%28feature%2C%20layer%29%20%7B%0A%20%20%20%20%20%20%20%20%20%20%20%20layer.on%28%7B%0A%20%20%20%20%20%20%20%20%20%20%20%20%7D%29%3B%0A%20%20%20%20%20%20%20%20%7D%3B%0A%20%20%20%20%20%20%20%20var%20geo_json_1019a740d33244a9b7c35a23b878ef0e%20%3D%20L.geoJson%28null%2C%20%7B%0A%20%20%20%20%20%20%20%20%20%20%20%20%20%20%20%20onEachFeature%3A%20geo_json_1019a740d33244a9b7c35a23b878ef0e_onEachFeature%2C%0A%20%20%20%20%20%20%20%20%20%20%20%20%0A%20%20%20%20%20%20%20%20%20%20%20%20%20%20%20%20style%3A%20geo_json_1019a740d33244a9b7c35a23b878ef0e_styler%2C%0A%20%20%20%20%20%20%20%20%7D%29%3B%0A%0A%20%20%20%20%20%20%20%20function%20geo_json_1019a740d33244a9b7c35a23b878ef0e_add%20%28data%29%20%7B%0A%20%20%20%20%20%20%20%20%20%20%20%20geo_json_1019a740d33244a9b7c35a23b878ef0e%0A%20%20%20%20%20%20%20%20%20%20%20%20%20%20%20%20.addData%28data%29%0A%20%20%20%20%20%20%20%20%20%20%20%20%20%20%20%20.addTo%28map_6e8d55d783174d5eae83c360ae24d563%29%3B%0A%20%20%20%20%20%20%20%20%7D%0A%20%20%20%20%20%20%20%20%20%20%20%20geo_json_1019a740d33244a9b7c35a23b878ef0e_add%28%7B%22bbox%22%3A%20%5B14.043308%2C%2050.838992%2C%2014.045943%2C%2050.842292%5D%2C%20%22features%22%3A%20%5B%7B%22bbox%22%3A%20%5B14.043308%2C%2050.838992%2C%2014.045943%2C%2050.842292%5D%2C%20%22geometry%22%3A%20%7B%22coordinates%22%3A%20%5B%5B14.045101%2C%2050.839132%5D%2C%20%5B14.045081%2C%2050.839091%5D%2C%20%5B14.045061%2C%2050.839075%5D%2C%20%5B14.045162%2C%2050.83903%5D%2C%20%5B14.045259%2C%2050.838992%5D%2C%20%5B14.045401%2C%2050.839082%5D%2C%20%5B14.04551%2C%2050.839106%5D%2C%20%5B14.04565%2C%2050.83918%5D%2C%20%5B14.045777%2C%2050.839256%5D%2C%20%5B14.045858%2C%2050.839284%5D%2C%20%5B14.045897%2C%2050.839348%5D%2C%20%5B14.045943%2C%2050.839789%5D%2C%20%5B14.04594%2C%2050.839894%5D%2C%20%5B14.045889%2C%2050.840171%5D%2C%20%5B14.045827%2C%2050.840292%5D%2C%20%5B14.045674%2C%2050.840496%5D%2C%20%5B14.045495%2C%2050.840627%5D%2C%20%5B14.045397%2C%2050.840693%5D%2C%20%5B14.045341%2C%2050.840861%5D%2C%20%5B14.045159%2C%2050.841066%5D%2C%20%5B14.045007%2C%2050.841171%5D%2C%20%5B14.044807%2C%2050.841337%5D%2C%20%5B14.044679%2C%2050.84142%5D%2C%20%5B14.044581%2C%2050.841443%5D%2C%20%5B14.044497%2C%2050.841444%5D%2C%20%5B14.04448%2C%2050.841523%5D%2C%20%5B14.044373%2C%2050.841549%5D%2C%20%5B14.044334%2C%2050.841574%5D%2C%20%5B14.044345%2C%2050.841636%5D%2C%20%5B14.044242%2C%2050.841692%5D%2C%20%5B14.044102%2C%2050.841823%5D%2C%20%5B14.044139%2C%2050.841842%5D%2C%20%5B14.044117%2C%2050.841893%5D%2C%20%5B14.044171%2C%2050.841907%5D%2C%20%5B14.044005%2C%2050.84208%5D%2C%20%5B14.043946%2C%2050.842118%5D%2C%20%5B14.043825%2C%2050.842128%5D%2C%20%5B14.043699%2C%2050.842204%5D%2C%20%5B14.043542%2C%2050.842251%5D%2C%20%5B14.043308%2C%2050.842292%5D%5D%2C%20%22type%22%3A%20%22LineString%22%7D%2C%20%22id%22%3A%20%220%22%2C%20%22properties%22%3A%20%7B%22segments%22%3A%20%5B%7B%22distance%22%3A%20511.7%2C%20%22duration%22%3A%20368.4%2C%20%22steps%22%3A%20%5B%7B%22distance%22%3A%2016.3%2C%20%22duration%22%3A%2011.7%2C%20%22instruction%22%3A%20%22Head%20south%22%2C%20%22name%22%3A%20%22-%22%2C%20%22type%22%3A%2011%2C%20%22way_points%22%3A%20%5B0%2C%202%5D%7D%2C%20%7B%22distance%22%3A%2016.7%2C%20%22duration%22%3A%2012.0%2C%20%22instruction%22%3A%20%22Turn%20left%20onto%20Korbfeilenweg%22%2C%20%22name%22%3A%20%22Korbfeilenweg%22%2C%20%22type%22%3A%200%2C%20%22way_points%22%3A%20%5B2%2C%204%5D%7D%2C%20%7B%22distance%22%3A%20332.1%2C%20%22duration%22%3A%20239.1%2C%20%22instruction%22%3A%20%22Turn%20left%22%2C%20%22name%22%3A%20%22-%22%2C%20%22type%22%3A%200%2C%20%22way_points%22%3A%20%5B4%2C%2024%5D%7D%2C%20%7B%22distance%22%3A%208.8%2C%20%22duration%22%3A%206.4%2C%20%22instruction%22%3A%20%22Turn%20right%22%2C%20%22name%22%3A%20%22-%22%2C%20%22type%22%3A%201%2C%20%22way_points%22%3A%20%5B24%2C%2025%5D%7D%2C%20%7B%22distance%22%3A%2049.4%2C%20%22duration%22%3A%2035.5%2C%20%22instruction%22%3A%20%22Turn%20left%22%2C%20%22name%22%3A%20%22-%22%2C%20%22type%22%3A%200%2C%20%22way_points%22%3A%20%5B25%2C%2031%5D%7D%2C%20%7B%22distance%22%3A%209.9%2C%20%22duration%22%3A%207.1%2C%20%22instruction%22%3A%20%22Turn%20left%22%2C%20%22name%22%3A%20%22-%22%2C%20%22type%22%3A%200%2C%20%22way_points%22%3A%20%5B31%2C%2033%5D%7D%2C%20%7B%22distance%22%3A%2036.9%2C%20%22duration%22%3A%2026.6%2C%20%22instruction%22%3A%20%22Turn%20left%22%2C%20%22name%22%3A%20%22-%22%2C%20%22type%22%3A%200%2C%20%22way_points%22%3A%20%5B33%2C%2036%5D%7D%2C%20%7B%22distance%22%3A%2041.5%2C%20%22duration%22%3A%2029.9%2C%20%22instruction%22%3A%20%22Turn%20slight%20right%22%2C%20%22name%22%3A%20%22-%22%2C%20%22type%22%3A%205%2C%20%22way_points%22%3A%20%5B36%2C%2039%5D%7D%2C%20%7B%22distance%22%3A%200.0%2C%20%22duration%22%3A%200.0%2C%20%22instruction%22%3A%20%22Arrive%20at%20your%20destination%2C%20on%20the%20right%22%2C%20%22name%22%3A%20%22-%22%2C%20%22type%22%3A%2010%2C%20%22way_points%22%3A%20%5B39%2C%2039%5D%7D%5D%7D%5D%2C%20%22summary%22%3A%20%7B%22distance%22%3A%20511.7%2C%20%22duration%22%3A%20368.4%7D%2C%20%22way_points%22%3A%20%5B0%2C%2039%5D%7D%2C%20%22type%22%3A%20%22Feature%22%7D%5D%2C%20%22metadata%22%3A%20%7B%22attribution%22%3A%20%22openrouteservice.org%20%7C%20OpenStreetMap%20contributors%22%2C%20%22engine%22%3A%20%7B%22build_date%22%3A%20%222021-05-17T12%3A08%3A50Z%22%2C%20%22graph_date%22%3A%20%222021-06-15T02%3A09%3A15Z%22%2C%20%22version%22%3A%20%226.5.0%22%7D%2C%20%22query%22%3A%20%7B%22coordinates%22%3A%20%5B%5B14.0451675%2C%2050.839119%5D%2C%20%5B14.0433542%2C%2050.8423971%5D%5D%2C%20%22format%22%3A%20%22geojson%22%2C%20%22geometry%22%3A%20true%2C%20%22profile%22%3A%20%22foot-walking%22%7D%2C%20%22service%22%3A%20%22routing%22%2C%20%22timestamp%22%3A%201624639198897%7D%2C%20%22type%22%3A%20%22FeatureCollection%22%7D%29%3B%0A%0A%20%20%20%20%20%20%20%20%0A%20%20%20%20%0A%20%20%20%20%20%20%20%20function%20geo_json_a24e6c0f343b4fdfba757eb86e8248ce_styler%28feature%29%20%7B%0A%20%20%20%20%20%20%20%20%20%20%20%20switch%28feature.id%29%20%7B%0A%20%20%20%20%20%20%20%20%20%20%20%20%20%20%20%20default%3A%0A%20%20%20%20%20%20%20%20%20%20%20%20%20%20%20%20%20%20%20%20return%20%7B%22color%22%3A%20%22orange%22%2C%20%22opacity%22%3A%200.9%2C%20%22weight%22%3A%204%7D%3B%0A%20%20%20%20%20%20%20%20%20%20%20%20%7D%0A%20%20%20%20%20%20%20%20%7D%0A%0A%20%20%20%20%20%20%20%20function%20geo_json_a24e6c0f343b4fdfba757eb86e8248ce_onEachFeature%28feature%2C%20layer%29%20%7B%0A%20%20%20%20%20%20%20%20%20%20%20%20layer.on%28%7B%0A%20%20%20%20%20%20%20%20%20%20%20%20%7D%29%3B%0A%20%20%20%20%20%20%20%20%7D%3B%0A%20%20%20%20%20%20%20%20var%20geo_json_a24e6c0f343b4fdfba757eb86e8248ce%20%3D%20L.geoJson%28null%2C%20%7B%0A%20%20%20%20%20%20%20%20%20%20%20%20%20%20%20%20onEachFeature%3A%20geo_json_a24e6c0f343b4fdfba757eb86e8248ce_onEachFeature%2C%0A%20%20%20%20%20%20%20%20%20%20%20%20%0A%20%20%20%20%20%20%20%20%20%20%20%20%20%20%20%20style%3A%20geo_json_a24e6c0f343b4fdfba757eb86e8248ce_styler%2C%0A%20%20%20%20%20%20%20%20%7D%29%3B%0A%0A%20%20%20%20%20%20%20%20function%20geo_json_a24e6c0f343b4fdfba757eb86e8248ce_add%20%28data%29%20%7B%0A%20%20%20%20%20%20%20%20%20%20%20%20geo_json_a24e6c0f343b4fdfba757eb86e8248ce%0A%20%20%20%20%20%20%20%20%20%20%20%20%20%20%20%20.addData%28data%29%0A%20%20%20%20%20%20%20%20%20%20%20%20%20%20%20%20.addTo%28map_6e8d55d783174d5eae83c360ae24d563%29%3B%0A%20%20%20%20%20%20%20%20%7D%0A%20%20%20%20%20%20%20%20%20%20%20%20geo_json_a24e6c0f343b4fdfba757eb86e8248ce_add%28%7B%22bbox%22%3A%20%5B14.043308%2C%2050.803728%2C%2014.059459%2C%2050.842292%5D%2C%20%22features%22%3A%20%5B%7B%22bbox%22%3A%20%5B14.043308%2C%2050.803728%2C%2014.059459%2C%2050.842292%5D%2C%20%22geometry%22%3A%20%7B%22coordinates%22%3A%20%5B%5B14.046408%2C%2050.804178%5D%2C%20%5B14.046562%2C%2050.803741%5D%2C%20%5B14.046249%2C%2050.803732%5D%2C%20%5B14.045999%2C%2050.803728%5D%2C%20%5B14.045742%2C%2050.803737%5D%2C%20%5B14.045345%2C%2050.803745%5D%2C%20%5B14.045223%2C%2050.803836%5D%2C%20%5B14.04501%2C%2050.804017%5D%2C%20%5B14.044688%2C%2050.804593%5D%2C%20%5B14.044742%2C%2050.804709%5D%2C%20%5B14.044947%2C%2050.805351%5D%2C%20%5B14.045055%2C%2050.805518%5D%2C%20%5B14.045219%2C%2050.805725%5D%2C%20%5B14.045275%2C%2050.80592%5D%2C%20%5B14.046227%2C%2050.806602%5D%2C%20%5B14.046563%2C%2050.80664%5D%2C%20%5B14.04682%2C%2050.806713%5D%2C%20%5B14.047194%2C%2050.806724%5D%2C%20%5B14.047455%2C%2050.806674%5D%2C%20%5B14.047171%2C%2050.806965%5D%2C%20%5B14.047125%2C%2050.807102%5D%2C%20%5B14.04702%2C%2050.807231%5D%2C%20%5B14.046837%2C%2050.807409%5D%2C%20%5B14.046803%2C%2050.807549%5D%2C%20%5B14.046763%2C%2050.807671%5D%2C%20%5B14.047123%2C%2050.808041%5D%2C%20%5B14.047122%2C%2050.808075%5D%2C%20%5B14.047203%2C%2050.808444%5D%2C%20%5B14.047231%2C%2050.808952%5D%2C%20%5B14.047196%2C%2050.809039%5D%2C%20%5B14.047239%2C%2050.809268%5D%2C%20%5B14.047315%2C%2050.80946%5D%2C%20%5B14.047472%2C%2050.809644%5D%2C%20%5B14.047635%2C%2050.809788%5D%2C%20%5B14.047829%2C%2050.810015%5D%2C%20%5B14.047903%2C%2050.810077%5D%2C%20%5B14.04792%2C%2050.810087%5D%2C%20%5B14.049239%2C%2050.810457%5D%2C%20%5B14.049705%2C%2050.810507%5D%2C%20%5B14.050117%2C%2050.810596%5D%2C%20%5B14.050537%2C%2050.810699%5D%2C%20%5B14.050771%2C%2050.810734%5D%2C%20%5B14.050977%2C%2050.810785%5D%2C%20%5B14.051608%2C%2050.811013%5D%2C%20%5B14.052212%2C%2050.811182%5D%2C%20%5B14.052901%2C%2050.811292%5D%2C%20%5B14.053265%2C%2050.811377%5D%2C%20%5B14.053892%2C%2050.811604%5D%2C%20%5B14.054466%2C%2050.811797%5D%2C%20%5B14.055603%2C%2050.812243%5D%2C%20%5B14.056758%2C%2050.812689%5D%2C%20%5B14.05691%2C%2050.812766%5D%2C%20%5B14.057259%2C%2050.813006%5D%2C%20%5B14.057591%2C%2050.813273%5D%2C%20%5B14.057886%2C%2050.813582%5D%2C%20%5B14.058256%2C%2050.81405%5D%2C%20%5B14.056998%2C%2050.814403%5D%2C%20%5B14.058048%2C%2050.815918%5D%2C%20%5B14.058789%2C%2050.816875%5D%2C%20%5B14.059459%2C%2050.817611%5D%2C%20%5B14.059387%2C%2050.817709%5D%2C%20%5B14.058983%2C%2050.818795%5D%2C%20%5B14.05761%2C%2050.822635%5D%2C%20%5B14.057271%2C%2050.822566%5D%2C%20%5B14.057045%2C%2050.822845%5D%2C%20%5B14.057076%2C%2050.823034%5D%2C%20%5B14.057262%2C%2050.823531%5D%2C%20%5B14.057163%2C%2050.82399%5D%2C%20%5B14.05696%2C%2050.824385%5D%2C%20%5B14.056829%2C%2050.824562%5D%2C%20%5B14.056639%2C%2050.824714%5D%2C%20%5B14.056222%2C%2050.824986%5D%2C%20%5B14.055993%2C%2050.82516%5D%2C%20%5B14.055966%2C%2050.82533%5D%2C%20%5B14.055856%2C%2050.825947%5D%2C%20%5B14.055866%2C%2050.826311%5D%2C%20%5B14.055982%2C%2050.826568%5D%2C%20%5B14.054875%2C%2050.827775%5D%2C%20%5B14.054334%2C%2050.828362%5D%2C%20%5B14.05316%2C%2050.830121%5D%2C%20%5B14.052989%2C%2050.830379%5D%2C%20%5B14.052932%2C%2050.830506%5D%2C%20%5B14.052891%2C%2050.831572%5D%2C%20%5B14.05288%2C%2050.831828%5D%2C%20%5B14.05288%2C%2050.831962%5D%2C%20%5B14.052871%2C%2050.832138%5D%2C%20%5B14.052822%2C%2050.832246%5D%2C%20%5B14.052448%2C%2050.832784%5D%2C%20%5B14.052406%2C%2050.832874%5D%2C%20%5B14.052362%2C%2050.833096%5D%2C%20%5B14.052337%2C%2050.833516%5D%2C%20%5B14.052324%2C%2050.833686%5D%2C%20%5B14.052291%2C%2050.833751%5D%2C%20%5B14.052218%2C%2050.833812%5D%2C%20%5B14.052069%2C%2050.83392%5D%2C%20%5B14.052011%2C%2050.833963%5D%2C%20%5B14.051677%2C%2050.834186%5D%2C%20%5B14.051372%2C%2050.834357%5D%2C%20%5B14.051308%2C%2050.834415%5D%2C%20%5B14.051276%2C%2050.834464%5D%2C%20%5B14.051272%2C%2050.834501%5D%2C%20%5B14.051276%2C%2050.834547%5D%2C%20%5B14.051289%2C%2050.834612%5D%2C%20%5B14.051297%2C%2050.834664%5D%2C%20%5B14.051274%2C%2050.834723%5D%2C%20%5B14.051164%2C%2050.834838%5D%2C%20%5B14.050862%2C%2050.835051%5D%2C%20%5B14.050489%2C%2050.835236%5D%2C%20%5B14.049957%2C%2050.835564%5D%2C%20%5B14.049824%2C%2050.835603%5D%2C%20%5B14.0498%2C%2050.835703%5D%2C%20%5B14.049587%2C%2050.835925%5D%2C%20%5B14.049259%2C%2050.836104%5D%2C%20%5B14.048603%2C%2050.83646%5D%2C%20%5B14.048293%2C%2050.836817%5D%2C%20%5B14.048179%2C%2050.837149%5D%2C%20%5B14.048145%2C%2050.837301%5D%2C%20%5B14.04796%2C%2050.837653%5D%2C%20%5B14.047688%2C%2050.837963%5D%2C%20%5B14.047107%2C%2050.838527%5D%2C%20%5B14.046835%2C%2050.838664%5D%2C%20%5B14.046672%2C%2050.838863%5D%2C%20%5B14.046558%2C%2050.838886%5D%2C%20%5B14.046113%2C%2050.839146%5D%2C%20%5B14.045897%2C%2050.839348%5D%2C%20%5B14.045943%2C%2050.839789%5D%2C%20%5B14.04594%2C%2050.839894%5D%2C%20%5B14.045889%2C%2050.840171%5D%2C%20%5B14.045827%2C%2050.840292%5D%2C%20%5B14.045674%2C%2050.840496%5D%2C%20%5B14.045495%2C%2050.840627%5D%2C%20%5B14.045397%2C%2050.840693%5D%2C%20%5B14.045341%2C%2050.840861%5D%2C%20%5B14.045159%2C%2050.841066%5D%2C%20%5B14.045007%2C%2050.841171%5D%2C%20%5B14.044807%2C%2050.841337%5D%2C%20%5B14.044679%2C%2050.84142%5D%2C%20%5B14.044581%2C%2050.841443%5D%2C%20%5B14.044497%2C%2050.841444%5D%2C%20%5B14.04448%2C%2050.841523%5D%2C%20%5B14.044373%2C%2050.841549%5D%2C%20%5B14.044334%2C%2050.841574%5D%2C%20%5B14.044345%2C%2050.841636%5D%2C%20%5B14.044242%2C%2050.841692%5D%2C%20%5B14.044102%2C%2050.841823%5D%2C%20%5B14.044139%2C%2050.841842%5D%2C%20%5B14.044117%2C%2050.841893%5D%2C%20%5B14.044171%2C%2050.841907%5D%2C%20%5B14.044005%2C%2050.84208%5D%2C%20%5B14.043946%2C%2050.842118%5D%2C%20%5B14.043825%2C%2050.842128%5D%2C%20%5B14.043699%2C%2050.842204%5D%2C%20%5B14.043542%2C%2050.842251%5D%2C%20%5B14.043308%2C%2050.842292%5D%5D%2C%20%22type%22%3A%20%22LineString%22%7D%2C%20%22id%22%3A%20%220%22%2C%20%22properties%22%3A%20%7B%22segments%22%3A%20%5B%7B%22distance%22%3A%205512.8%2C%20%22duration%22%3A%203969.2%2C%20%22steps%22%3A%20%5B%7B%22distance%22%3A%2049.8%2C%20%22duration%22%3A%2035.9%2C%20%22instruction%22%3A%20%22Head%20south%22%2C%20%22name%22%3A%20%22-%22%2C%20%22type%22%3A%2011%2C%20%22way_points%22%3A%20%5B0%2C%201%5D%7D%2C%20%7B%22distance%22%3A%2085.6%2C%20%22duration%22%3A%2061.6%2C%20%22instruction%22%3A%20%22Turn%20right%22%2C%20%22name%22%3A%20%22-%22%2C%20%22type%22%3A%201%2C%20%22way_points%22%3A%20%5B1%2C%205%5D%7D%2C%20%7B%22distance%22%3A%2038.3%2C%20%22duration%22%3A%2027.6%2C%20%22instruction%22%3A%20%22Turn%20right%22%2C%20%22name%22%3A%20%22-%22%2C%20%22type%22%3A%201%2C%20%22way_points%22%3A%20%5B5%2C%207%5D%7D%2C%20%7B%22distance%22%3A%2067.9%2C%20%22duration%22%3A%2048.9%2C%20%22instruction%22%3A%20%22Keep%20right%22%2C%20%22name%22%3A%20%22-%22%2C%20%22type%22%3A%2013%2C%20%22way_points%22%3A%20%5B7%2C%208%5D%7D%2C%20%7B%22distance%22%3A%20344.5%2C%20%22duration%22%3A%20248.0%2C%20%22instruction%22%3A%20%22Keep%20right%22%2C%20%22name%22%3A%20%22-%22%2C%20%22type%22%3A%2013%2C%20%22way_points%22%3A%20%5B8%2C%2018%5D%7D%2C%20%7B%22distance%22%3A%2093.3%2C%20%22duration%22%3A%2067.2%2C%20%22instruction%22%3A%20%22Turn%20sharp%20left%22%2C%20%22name%22%3A%20%22-%22%2C%20%22type%22%3A%202%2C%20%22way_points%22%3A%20%5B18%2C%2022%5D%7D%2C%20%7B%22distance%22%3A%2029.7%2C%20%22duration%22%3A%2021.4%2C%20%22instruction%22%3A%20%22Keep%20right%22%2C%20%22name%22%3A%20%22-%22%2C%20%22type%22%3A%2013%2C%20%22way_points%22%3A%20%5B22%2C%2024%5D%7D%2C%20%7B%22distance%22%3A%2048.3%2C%20%22duration%22%3A%2034.7%2C%20%22instruction%22%3A%20%22Turn%20slight%20right%20onto%20Ostrov%22%2C%20%22name%22%3A%20%22Ostrov%22%2C%20%22type%22%3A%205%2C%20%22way_points%22%3A%20%5B24%2C%2025%5D%7D%2C%20%7B%22distance%22%3A%20696.1%2C%20%22duration%22%3A%20501.2%2C%20%22instruction%22%3A%20%22Turn%20slight%20left%20onto%20Ostrov%2C%2024814%22%2C%20%22name%22%3A%20%22Ostrov%2C%2024814%22%2C%20%22type%22%3A%204%2C%20%22way_points%22%3A%20%5B25%2C%2047%5D%7D%2C%20%7B%22distance%22%3A%20248.5%2C%20%22duration%22%3A%20178.9%2C%20%22instruction%22%3A%20%22Keep%20left%22%2C%20%22name%22%3A%20%22-%22%2C%20%22type%22%3A%2012%2C%20%22way_points%22%3A%20%5B47%2C%2051%5D%7D%2C%20%7B%22distance%22%3A%20172.3%2C%20%22duration%22%3A%20124.0%2C%20%22instruction%22%3A%20%22Keep%20left%22%2C%20%22name%22%3A%20%22-%22%2C%20%22type%22%3A%2012%2C%20%22way_points%22%3A%20%5B51%2C%2055%5D%7D%2C%20%7B%22distance%22%3A%2096.7%2C%20%22duration%22%3A%2069.6%2C%20%22instruction%22%3A%20%22Turn%20left%22%2C%20%22name%22%3A%20%22-%22%2C%20%22type%22%3A%200%2C%20%22way_points%22%3A%20%5B55%2C%2056%5D%7D%2C%20%7B%22distance%22%3A%20396.8%2C%20%22duration%22%3A%20285.7%2C%20%22instruction%22%3A%20%22Turn%20right%22%2C%20%22name%22%3A%20%22-%22%2C%20%22type%22%3A%201%2C%20%22way_points%22%3A%20%5B56%2C%2059%5D%7D%2C%20%7B%22distance%22%3A%2011.9%2C%20%22duration%22%3A%208.6%2C%20%22instruction%22%3A%20%22Turn%20left%22%2C%20%22name%22%3A%20%22-%22%2C%20%22type%22%3A%200%2C%20%22way_points%22%3A%20%5B59%2C%2060%5D%7D%2C%20%7B%22distance%22%3A%20561.8%2C%20%22duration%22%3A%20404.5%2C%20%22instruction%22%3A%20%22Keep%20right%22%2C%20%22name%22%3A%20%22-%22%2C%20%22type%22%3A%2013%2C%20%22way_points%22%3A%20%5B60%2C%2062%5D%7D%2C%20%7B%22distance%22%3A%2025.0%2C%20%22duration%22%3A%2018.0%2C%20%22instruction%22%3A%20%22Turn%20left%20onto%20Alte%201%22%2C%20%22name%22%3A%20%22Alte%201%22%2C%20%22type%22%3A%200%2C%20%22way_points%22%3A%20%5B62%2C%2063%5D%7D%2C%20%7B%22distance%22%3A%20479.3%2C%20%22duration%22%3A%20345.1%2C%20%22instruction%22%3A%20%22Turn%20right%22%2C%20%22name%22%3A%20%22-%22%2C%20%22type%22%3A%201%2C%20%22way_points%22%3A%20%5B63%2C%2076%5D%7D%2C%20%7B%22distance%22%3A%20986.1%2C%20%22duration%22%3A%20710.0%2C%20%22instruction%22%3A%20%22Turn%20left%22%2C%20%22name%22%3A%20%22-%22%2C%20%22type%22%3A%200%2C%20%22way_points%22%3A%20%5B76%2C%20103%5D%7D%2C%20%7B%22distance%22%3A%20149.4%2C%20%22duration%22%3A%20107.6%2C%20%22instruction%22%3A%20%22Keep%20left%20onto%20Ottom%5Cu00fchle%22%2C%20%22name%22%3A%20%22Ottom%5Cu00fchle%22%2C%20%22type%22%3A%2012%2C%20%22way_points%22%3A%20%5B103%2C%20109%5D%7D%2C%20%7B%22distance%22%3A%2011.3%2C%20%22duration%22%3A%208.1%2C%20%22instruction%22%3A%20%22Turn%20right%20onto%20Oberer%20M%5Cu00fchlsteig%22%2C%20%22name%22%3A%20%22Oberer%20M%5Cu00fchlsteig%22%2C%20%22type%22%3A%201%2C%20%22way_points%22%3A%20%5B109%2C%20110%5D%7D%2C%20%7B%22distance%22%3A%20503.0%2C%20%22duration%22%3A%20362.2%2C%20%22instruction%22%3A%20%22Keep%20left%20onto%20Oberer%20M%5Cu00fchlsteig%22%2C%20%22name%22%3A%20%22Oberer%20M%5Cu00fchlsteig%22%2C%20%22type%22%3A%2012%2C%20%22way_points%22%3A%20%5B110%2C%20124%5D%7D%2C%20%7B%22distance%22%3A%20270.7%2C%20%22duration%22%3A%20194.9%2C%20%22instruction%22%3A%20%22Keep%20right%22%2C%20%22name%22%3A%20%22-%22%2C%20%22type%22%3A%2013%2C%20%22way_points%22%3A%20%5B124%2C%20138%5D%7D%2C%20%7B%22distance%22%3A%208.8%2C%20%22duration%22%3A%206.4%2C%20%22instruction%22%3A%20%22Turn%20right%22%2C%20%22name%22%3A%20%22-%22%2C%20%22type%22%3A%201%2C%20%22way_points%22%3A%20%5B138%2C%20139%5D%7D%2C%20%7B%22distance%22%3A%2049.4%2C%20%22duration%22%3A%2035.5%2C%20%22instruction%22%3A%20%22Turn%20left%22%2C%20%22name%22%3A%20%22-%22%2C%20%22type%22%3A%200%2C%20%22way_points%22%3A%20%5B139%2C%20145%5D%7D%2C%20%7B%22distance%22%3A%209.9%2C%20%22duration%22%3A%207.1%2C%20%22instruction%22%3A%20%22Turn%20left%22%2C%20%22name%22%3A%20%22-%22%2C%20%22type%22%3A%200%2C%20%22way_points%22%3A%20%5B145%2C%20147%5D%7D%2C%20%7B%22distance%22%3A%2036.9%2C%20%22duration%22%3A%2026.6%2C%20%22instruction%22%3A%20%22Turn%20left%22%2C%20%22name%22%3A%20%22-%22%2C%20%22type%22%3A%200%2C%20%22way_points%22%3A%20%5B147%2C%20150%5D%7D%2C%20%7B%22distance%22%3A%2041.5%2C%20%22duration%22%3A%2029.9%2C%20%22instruction%22%3A%20%22Turn%20slight%20right%22%2C%20%22name%22%3A%20%22-%22%2C%20%22type%22%3A%205%2C%20%22way_points%22%3A%20%5B150%2C%20153%5D%7D%2C%20%7B%22distance%22%3A%200.0%2C%20%22duration%22%3A%200.0%2C%20%22instruction%22%3A%20%22Arrive%20at%20your%20destination%2C%20on%20the%20right%22%2C%20%22name%22%3A%20%22-%22%2C%20%22type%22%3A%2010%2C%20%22way_points%22%3A%20%5B153%2C%20153%5D%7D%5D%7D%5D%2C%20%22summary%22%3A%20%7B%22distance%22%3A%205512.8%2C%20%22duration%22%3A%203969.2%7D%2C%20%22way_points%22%3A%20%5B0%2C%20153%5D%7D%2C%20%22type%22%3A%20%22Feature%22%7D%5D%2C%20%22metadata%22%3A%20%7B%22attribution%22%3A%20%22openrouteservice.org%20%7C%20OpenStreetMap%20contributors%22%2C%20%22engine%22%3A%20%7B%22build_date%22%3A%20%222021-05-17T12%3A08%3A50Z%22%2C%20%22graph_date%22%3A%20%222021-06-15T02%3A09%3A15Z%22%2C%20%22version%22%3A%20%226.5.0%22%7D%2C%20%22query%22%3A%20%7B%22coordinates%22%3A%20%5B%5B14.0466107%2C%2050.804206%5D%2C%20%5B14.0433542%2C%2050.8423971%5D%5D%2C%20%22format%22%3A%20%22geojson%22%2C%20%22geometry%22%3A%20true%2C%20%22profile%22%3A%20%22foot-walking%22%7D%2C%20%22service%22%3A%20%22routing%22%2C%20%22timestamp%22%3A%201624639199065%7D%2C%20%22type%22%3A%20%22FeatureCollection%22%7D%29%3B%0A%0A%20%20%20%20%20%20%20%20%0A%20%20%20%20%0A%20%20%20%20%20%20%20%20%20%20%20%20var%20marker_b3f31c105f3f478c99d3326bee458ff4%20%3D%20L.marker%28%0A%20%20%20%20%20%20%20%20%20%20%20%20%20%20%20%20%5B50.832243%2C%2014.06776%5D%2C%0A%20%20%20%20%20%20%20%20%20%20%20%20%20%20%20%20%7B%7D%0A%20%20%20%20%20%20%20%20%20%20%20%20%29.addTo%28map_6e8d55d783174d5eae83c360ae24d563%29%3B%0A%20%20%20%20%20%20%20%20%0A%20%20%20%20%0A%20%20%20%20%20%20%20%20%20%20%20%20var%20icon_5f59e99fe5a34de1ac2ffbfc28f6b1f6%20%3D%20L.AwesomeMarkers.icon%28%0A%20%20%20%20%20%20%20%20%20%20%20%20%20%20%20%20%7B%22extraClasses%22%3A%20%22fa-rotate-0%22%2C%20%22icon%22%3A%20%22taxi%22%2C%20%22iconColor%22%3A%20%22blue%22%2C%20%22markerColor%22%3A%20%22white%22%2C%20%22prefix%22%3A%20%22fa%22%7D%0A%20%20%20%20%20%20%20%20%20%20%20%20%29%3B%0A%20%20%20%20%20%20%20%20%20%20%20%20marker_b3f31c105f3f478c99d3326bee458ff4.setIcon%28icon_5f59e99fe5a34de1ac2ffbfc28f6b1f6%29%3B%0A%20%20%20%20%20%20%20%20%0A%20%20%20%20%0A%20%20%20%20%20%20%20%20var%20popup_b1a7985213e64630ad95b8554155cfbe%20%3D%20L.popup%28%7B%22maxWidth%22%3A%20%22100%25%22%7D%29%3B%0A%0A%20%20%20%20%20%20%20%20%0A%20%20%20%20%20%20%20%20%20%20%20%20var%20html_2833d866e2f146b5b1350bd51c387b53%20%3D%20%24%28%60%3Cdiv%20id%3D%22html_2833d866e2f146b5b1350bd51c387b53%22%20style%3D%22width%3A%20100.0%25%3B%20height%3A%20100.0%25%3B%22%3EStart_1%3C/div%3E%60%29%5B0%5D%3B%0A%20%20%20%20%20%20%20%20%20%20%20%20popup_b1a7985213e64630ad95b8554155cfbe.setContent%28html_2833d866e2f146b5b1350bd51c387b53%29%3B%0A%20%20%20%20%20%20%20%20%0A%0A%20%20%20%20%20%20%20%20marker_b3f31c105f3f478c99d3326bee458ff4.bindPopup%28popup_b1a7985213e64630ad95b8554155cfbe%29%0A%20%20%20%20%20%20%20%20%3B%0A%0A%20%20%20%20%20%20%20%20%0A%20%20%20%20%0A%20%20%20%20%0A%20%20%20%20%20%20%20%20%20%20%20%20var%20marker_30ee119e111747f0adc4c055daea9545%20%3D%20L.marker%28%0A%20%20%20%20%20%20%20%20%20%20%20%20%20%20%20%20%5B50.839119%2C%2014.0451675%5D%2C%0A%20%20%20%20%20%20%20%20%20%20%20%20%20%20%20%20%7B%7D%0A%20%20%20%20%20%20%20%20%20%20%20%20%29.addTo%28map_6e8d55d783174d5eae83c360ae24d563%29%3B%0A%20%20%20%20%20%20%20%20%0A%20%20%20%20%0A%20%20%20%20%20%20%20%20%20%20%20%20var%20icon_2083c19f9e404d8b9140da657c48814a%20%3D%20L.AwesomeMarkers.icon%28%0A%20%20%20%20%20%20%20%20%20%20%20%20%20%20%20%20%7B%22extraClasses%22%3A%20%22fa-rotate-0%22%2C%20%22icon%22%3A%20%22taxi%22%2C%20%22iconColor%22%3A%20%22red%22%2C%20%22markerColor%22%3A%20%22white%22%2C%20%22prefix%22%3A%20%22fa%22%7D%0A%20%20%20%20%20%20%20%20%20%20%20%20%29%3B%0A%20%20%20%20%20%20%20%20%20%20%20%20marker_30ee119e111747f0adc4c055daea9545.setIcon%28icon_2083c19f9e404d8b9140da657c48814a%29%3B%0A%20%20%20%20%20%20%20%20%0A%20%20%20%20%0A%20%20%20%20%20%20%20%20var%20popup_d24860e21d584aad845c07bb9c25ff3d%20%3D%20L.popup%28%7B%22maxWidth%22%3A%20%22100%25%22%7D%29%3B%0A%0A%20%20%20%20%20%20%20%20%0A%20%20%20%20%20%20%20%20%20%20%20%20var%20html_3d87bc6a8cb247e88ae3d0443809ece7%20%3D%20%24%28%60%3Cdiv%20id%3D%22html_3d87bc6a8cb247e88ae3d0443809ece7%22%20style%3D%22width%3A%20100.0%25%3B%20height%3A%20100.0%25%3B%22%3EStart_2%3C/div%3E%60%29%5B0%5D%3B%0A%20%20%20%20%20%20%20%20%20%20%20%20popup_d24860e21d584aad845c07bb9c25ff3d.setContent%28html_3d87bc6a8cb247e88ae3d0443809ece7%29%3B%0A%20%20%20%20%20%20%20%20%0A%0A%20%20%20%20%20%20%20%20marker_30ee119e111747f0adc4c055daea9545.bindPopup%28popup_d24860e21d584aad845c07bb9c25ff3d%29%0A%20%20%20%20%20%20%20%20%3B%0A%0A%20%20%20%20%20%20%20%20%0A%20%20%20%20%0A%20%20%20%20%0A%20%20%20%20%20%20%20%20%20%20%20%20var%20marker_b0c2e2d72a784d3c8e24c708060341ee%20%3D%20L.marker%28%0A%20%20%20%20%20%20%20%20%20%20%20%20%20%20%20%20%5B50.804206%2C%2014.0466107%5D%2C%0A%20%20%20%20%20%20%20%20%20%20%20%20%20%20%20%20%7B%7D%0A%20%20%20%20%20%20%20%20%20%20%20%20%29.addTo%28map_6e8d55d783174d5eae83c360ae24d563%29%3B%0A%20%20%20%20%20%20%20%20%0A%20%20%20%20%0A%20%20%20%20%20%20%20%20%20%20%20%20var%20icon_b82b7a9945134bb898c86231a3dd43ac%20%3D%20L.AwesomeMarkers.icon%28%0A%20%20%20%20%20%20%20%20%20%20%20%20%20%20%20%20%7B%22extraClasses%22%3A%20%22fa-rotate-0%22%2C%20%22icon%22%3A%20%22taxi%22%2C%20%22iconColor%22%3A%20%22orange%22%2C%20%22markerColor%22%3A%20%22white%22%2C%20%22prefix%22%3A%20%22fa%22%7D%0A%20%20%20%20%20%20%20%20%20%20%20%20%29%3B%0A%20%20%20%20%20%20%20%20%20%20%20%20marker_b0c2e2d72a784d3c8e24c708060341ee.setIcon%28icon_b82b7a9945134bb898c86231a3dd43ac%29%3B%0A%20%20%20%20%20%20%20%20%0A%20%20%20%20%0A%20%20%20%20%20%20%20%20var%20popup_909fc0226ac545309a446d0bc7d3c95f%20%3D%20L.popup%28%7B%22maxWidth%22%3A%20%22100%25%22%7D%29%3B%0A%0A%20%20%20%20%20%20%20%20%0A%20%20%20%20%20%20%20%20%20%20%20%20var%20html_4b162ed16d564a78a88b0d9efdf2cf8d%20%3D%20%24%28%60%3Cdiv%20id%3D%22html_4b162ed16d564a78a88b0d9efdf2cf8d%22%20style%3D%22width%3A%20100.0%25%3B%20height%3A%20100.0%25%3B%22%3EStart_3%3C/div%3E%60%29%5B0%5D%3B%0A%20%20%20%20%20%20%20%20%20%20%20%20popup_909fc0226ac545309a446d0bc7d3c95f.setContent%28html_4b162ed16d564a78a88b0d9efdf2cf8d%29%3B%0A%20%20%20%20%20%20%20%20%0A%0A%20%20%20%20%20%20%20%20marker_b0c2e2d72a784d3c8e24c708060341ee.bindPopup%28popup_909fc0226ac545309a446d0bc7d3c95f%29%0A%20%20%20%20%20%20%20%20%3B%0A%0A%20%20%20%20%20%20%20%20%0A%20%20%20%20%0A%20%20%20%20%0A%20%20%20%20%20%20%20%20%20%20%20%20var%20marker_96416bbf49f341b6b97e855aa5aa64f6%20%3D%20L.marker%28%0A%20%20%20%20%20%20%20%20%20%20%20%20%20%20%20%20%5B50.8423971%2C%2014.0433542%5D%2C%0A%20%20%20%20%20%20%20%20%20%20%20%20%20%20%20%20%7B%7D%0A%20%20%20%20%20%20%20%20%20%20%20%20%29.addTo%28map_6e8d55d783174d5eae83c360ae24d563%29%3B%0A%20%20%20%20%20%20%20%20%0A%20%20%20%20%0A%20%20%20%20%20%20%20%20var%20popup_12db5f6fdd86471cbe705ddbc41c7786%20%3D%20L.popup%28%7B%22maxWidth%22%3A%20%22100%25%22%7D%29%3B%0A%0A%20%20%20%20%20%20%20%20%0A%20%20%20%20%20%20%20%20%20%20%20%20var%20html_ee545ec2477b4a23976728720ee979bd%20%3D%20%24%28%60%3Cdiv%20id%3D%22html_ee545ec2477b4a23976728720ee979bd%22%20style%3D%22width%3A%20100.0%25%3B%20height%3A%20100.0%25%3B%22%3ETarget%3C/div%3E%60%29%5B0%5D%3B%0A%20%20%20%20%20%20%20%20%20%20%20%20popup_12db5f6fdd86471cbe705ddbc41c7786.setContent%28html_ee545ec2477b4a23976728720ee979bd%29%3B%0A%20%20%20%20%20%20%20%20%0A%0A%20%20%20%20%20%20%20%20marker_96416bbf49f341b6b97e855aa5aa64f6.bindPopup%28popup_12db5f6fdd86471cbe705ddbc41c7786%29%0A%20%20%20%20%20%20%20%20%3B%0A%0A%20%20%20%20%20%20%20%20%0A%20%20%20%20%0A%3C/script%3E onload=\"this.contentDocument.open();this.contentDocument.write(    decodeURIComponent(this.getAttribute('data-html')));this.contentDocument.close();\" allowfullscreen webkitallowfullscreen mozallowfullscreen></iframe></div></div>"
      ],
      "text/plain": [
       "<folium.folium.Map at 0x7fda91f27f10>"
      ]
     },
     "execution_count": 48,
     "metadata": {},
     "output_type": "execute_result"
    }
   ],
   "source": [
    "# Show the routes on the map\n",
    "folium_base"
   ]
  },
  {
   "cell_type": "code",
   "execution_count": null,
   "id": "38de0f01",
   "metadata": {},
   "outputs": [],
   "source": []
  }
 ],
 "metadata": {
  "kernelspec": {
   "display_name": "Python 3",
   "language": "python",
   "name": "python3"
  },
  "language_info": {
   "codemirror_mode": {
    "name": "ipython",
    "version": 3
   },
   "file_extension": ".py",
   "mimetype": "text/x-python",
   "name": "python",
   "nbconvert_exporter": "python",
   "pygments_lexer": "ipython3",
   "version": "3.8.8"
  }
 },
 "nbformat": 4,
 "nbformat_minor": 5
}

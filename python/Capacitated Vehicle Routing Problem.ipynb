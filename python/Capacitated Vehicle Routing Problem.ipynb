{
 "cells": [
  {
   "cell_type": "markdown",
   "metadata": {},
   "source": [
    "# Capacitated Vehicle Routing Problem"
   ]
  },
  {
   "cell_type": "markdown",
   "metadata": {},
   "source": [
    "## TODO:\n",
    "- Some explanation and general info of the capacitated vehicle routing problem here. (Will be inserted later)\n",
    "- Add external file content to notebook\n",
    "- consider difference between cartesian and geographical coordinates (latitude and longitude are actually angle coordinates, not location coordinates)\n",
    "- shorten notebook\n",
    "- display dataframe with .head()\n",
    "- add time window constraint"
   ]
  },
  {
   "cell_type": "markdown",
   "metadata": {},
   "source": [
    "First, we import some useful python packages for solving the capacitated vehicle routing problem."
   ]
  },
  {
   "cell_type": "code",
   "execution_count": 1,
   "metadata": {
    "collapsed": true
   },
   "outputs": [],
   "source": [
    "import openrouteservice\n",
    "from ortools.constraint_solver import pywrapcp\n",
    "from ortools.constraint_solver import routing_enums_pb2\n",
    "import folium\n",
    "import numpy as np \n",
    "import pandas as pd"
   ]
  },
  {
   "cell_type": "markdown",
   "metadata": {},
   "source": [
    "# Setting up the problem"
   ]
  },
  {
   "cell_type": "code",
   "execution_count": 2,
   "metadata": {},
   "outputs": [
    {
     "data": {
      "text/html": [
       "<div>\n",
       "<style>\n",
       "    .dataframe thead tr:only-child th {\n",
       "        text-align: right;\n",
       "    }\n",
       "\n",
       "    .dataframe thead th {\n",
       "        text-align: left;\n",
       "    }\n",
       "\n",
       "    .dataframe tbody tr th {\n",
       "        vertical-align: top;\n",
       "    }\n",
       "</style>\n",
       "<table border=\"1\" class=\"dataframe\">\n",
       "  <thead>\n",
       "    <tr style=\"text-align: right;\">\n",
       "      <th>node number</th>\n",
       "      <th>longitude</th>\n",
       "      <th>latitude</th>\n",
       "      <th>demand</th>\n",
       "    </tr>\n",
       "  </thead>\n",
       "  <tbody>\n",
       "    <tr>\n",
       "      <th>0</th>\n",
       "      <td>8.683448</td>\n",
       "      <td>49.416961</td>\n",
       "      <td>0.0</td>\n",
       "    </tr>\n",
       "    <tr>\n",
       "      <th>1</th>\n",
       "      <td>8.681247</td>\n",
       "      <td>49.412388</td>\n",
       "      <td>22.0</td>\n",
       "    </tr>\n",
       "    <tr>\n",
       "      <th>2</th>\n",
       "      <td>8.662789</td>\n",
       "      <td>49.374460</td>\n",
       "      <td>7.0</td>\n",
       "    </tr>\n",
       "    <tr>\n",
       "      <th>3</th>\n",
       "      <td>8.663488</td>\n",
       "      <td>49.390504</td>\n",
       "      <td>22.0</td>\n",
       "    </tr>\n",
       "    <tr>\n",
       "      <th>4</th>\n",
       "      <td>8.650365</td>\n",
       "      <td>49.424738</td>\n",
       "      <td>8.0</td>\n",
       "    </tr>\n",
       "    <tr>\n",
       "      <th>5</th>\n",
       "      <td>8.684574</td>\n",
       "      <td>49.393819</td>\n",
       "      <td>17.0</td>\n",
       "    </tr>\n",
       "    <tr>\n",
       "      <th>6</th>\n",
       "      <td>8.636446</td>\n",
       "      <td>49.430018</td>\n",
       "      <td>8.0</td>\n",
       "    </tr>\n",
       "    <tr>\n",
       "      <th>7</th>\n",
       "      <td>8.693395</td>\n",
       "      <td>49.401669</td>\n",
       "      <td>25.0</td>\n",
       "    </tr>\n",
       "    <tr>\n",
       "      <th>8</th>\n",
       "      <td>8.685109</td>\n",
       "      <td>49.387783</td>\n",
       "      <td>17.0</td>\n",
       "    </tr>\n",
       "    <tr>\n",
       "      <th>9</th>\n",
       "      <td>8.670162</td>\n",
       "      <td>49.406377</td>\n",
       "      <td>4.0</td>\n",
       "    </tr>\n",
       "    <tr>\n",
       "      <th>10</th>\n",
       "      <td>8.632450</td>\n",
       "      <td>49.409997</td>\n",
       "      <td>24.0</td>\n",
       "    </tr>\n",
       "    <tr>\n",
       "      <th>11</th>\n",
       "      <td>8.689162</td>\n",
       "      <td>49.372064</td>\n",
       "      <td>23.0</td>\n",
       "    </tr>\n",
       "    <tr>\n",
       "      <th>12</th>\n",
       "      <td>8.670682</td>\n",
       "      <td>49.396678</td>\n",
       "      <td>3.0</td>\n",
       "    </tr>\n",
       "    <tr>\n",
       "      <th>13</th>\n",
       "      <td>8.690306</td>\n",
       "      <td>49.372096</td>\n",
       "      <td>26.0</td>\n",
       "    </tr>\n",
       "    <tr>\n",
       "      <th>14</th>\n",
       "      <td>8.693580</td>\n",
       "      <td>49.378182</td>\n",
       "      <td>13.0</td>\n",
       "    </tr>\n",
       "    <tr>\n",
       "      <th>15</th>\n",
       "      <td>8.636060</td>\n",
       "      <td>49.395647</td>\n",
       "      <td>4.0</td>\n",
       "    </tr>\n",
       "    <tr>\n",
       "      <th>16</th>\n",
       "      <td>8.670398</td>\n",
       "      <td>49.408443</td>\n",
       "      <td>28.0</td>\n",
       "    </tr>\n",
       "    <tr>\n",
       "      <th>17</th>\n",
       "      <td>8.637578</td>\n",
       "      <td>49.429881</td>\n",
       "      <td>25.0</td>\n",
       "    </tr>\n",
       "    <tr>\n",
       "      <th>18</th>\n",
       "      <td>8.682342</td>\n",
       "      <td>49.403657</td>\n",
       "      <td>3.0</td>\n",
       "    </tr>\n",
       "    <tr>\n",
       "      <th>19</th>\n",
       "      <td>8.644550</td>\n",
       "      <td>49.413006</td>\n",
       "      <td>3.0</td>\n",
       "    </tr>\n",
       "    <tr>\n",
       "      <th>20</th>\n",
       "      <td>8.685483</td>\n",
       "      <td>49.406815</td>\n",
       "      <td>16.0</td>\n",
       "    </tr>\n",
       "    <tr>\n",
       "      <th>21</th>\n",
       "      <td>8.691885</td>\n",
       "      <td>49.372719</td>\n",
       "      <td>12.0</td>\n",
       "    </tr>\n",
       "  </tbody>\n",
       "</table>\n",
       "</div>"
      ],
      "text/plain": [
       "node number  longitude   latitude  demand\n",
       "0             8.683448  49.416961     0.0\n",
       "1             8.681247  49.412388    22.0\n",
       "2             8.662789  49.374460     7.0\n",
       "3             8.663488  49.390504    22.0\n",
       "4             8.650365  49.424738     8.0\n",
       "5             8.684574  49.393819    17.0\n",
       "6             8.636446  49.430018     8.0\n",
       "7             8.693395  49.401669    25.0\n",
       "8             8.685109  49.387783    17.0\n",
       "9             8.670162  49.406377     4.0\n",
       "10            8.632450  49.409997    24.0\n",
       "11            8.689162  49.372064    23.0\n",
       "12            8.670682  49.396678     3.0\n",
       "13            8.690306  49.372096    26.0\n",
       "14            8.693580  49.378182    13.0\n",
       "15            8.636060  49.395647     4.0\n",
       "16            8.670398  49.408443    28.0\n",
       "17            8.637578  49.429881    25.0\n",
       "18            8.682342  49.403657     3.0\n",
       "19            8.644550  49.413006     3.0\n",
       "20            8.685483  49.406815    16.0\n",
       "21            8.691885  49.372719    12.0"
      ]
     },
     "metadata": {},
     "output_type": "display_data"
    }
   ],
   "source": [
    "CVRP = np.array([[  8.683448,  49.416961,   0.  ],\n",
    "                 [  8.681247,  49.412388,  22.  ],\n",
    "                 [  8.662789,  49.37446,    7.  ],\n",
    "                 [  8.663488,  49.390504,  22.  ],\n",
    "                 [  8.650365,  49.424738,   8.  ],\n",
    "                 [  8.684574,  49.393819,  17.  ],\n",
    "                 [  8.636446,  49.430018,   8.  ],\n",
    "                 [  8.693395,  49.401669,  25.  ],\n",
    "                 [  8.685109,  49.387783,  17.  ],\n",
    "                 [  8.670162,  49.406377,   4.  ],\n",
    "                 [  8.63245,   49.409997,  24.  ],\n",
    "                 [  8.689162,  49.372064,  23.  ],\n",
    "                 [  8.670682,  49.396678,   3.  ],\n",
    "                 [  8.690306,  49.372096,  26.  ],\n",
    "                 [  8.69358,   49.378182,  13.  ],\n",
    "                 [  8.63606,   49.395647,   4.  ],\n",
    "                 [  8.670398,  49.408443,  28.  ],\n",
    "                 [  8.637578,  49.429881,  25.  ],\n",
    "                 [  8.682342,  49.403657,   3.  ],\n",
    "                 [  8.64455,   49.413006,   3.  ],\n",
    "                 [  8.685483,  49.406815,  16.  ],\n",
    "                 [  8.691885,  49.372719,  12.  ]])\n",
    "\n",
    "df_CVRP = pd.DataFrame(CVRP, columns=['longitude', 'latitude', 'demand'])\n",
    "df_CVRP.columns.name = 'node number'\n",
    "display(df_CVRP)"
   ]
  },
  {
   "cell_type": "markdown",
   "metadata": {},
   "source": [
    "# Solving the capacitated vehicle routing problem"
   ]
  },
  {
   "cell_type": "markdown",
   "metadata": {},
   "source": [
    "To solve the capacitated vehicle routing problem, we will use the [**google or-tools**](https://github.com/google/or-tools) as well as the [**openrouteservie**](https://openrouteservice.org/). First, we use the matrix API of the openrouteservice, which will give us a symmetric distance or duration matrix for a list of locations/coordinates, where every location is paired with each other. For further explaination please refer to the [**documentation**](https://openrouteservice.org/documentation/#/reference/matrix/matrix). \n",
    "\n",
    "We start with querying a distance matrix from the API. The values of the matrix are given in meters.  \n",
    "\n",
    "Note: If you skipped the previous chapter \"Setting up the problem\", please make sure that you have executed all previous cells in order for the following code to run without complications. "
   ]
  },
  {
   "cell_type": "code",
   "execution_count": 3,
   "metadata": {},
   "outputs": [
    {
     "data": {
      "text/html": [
       "<div>\n",
       "<style>\n",
       "    .dataframe thead tr:only-child th {\n",
       "        text-align: right;\n",
       "    }\n",
       "\n",
       "    .dataframe thead th {\n",
       "        text-align: left;\n",
       "    }\n",
       "\n",
       "    .dataframe tbody tr th {\n",
       "        vertical-align: top;\n",
       "    }\n",
       "</style>\n",
       "<table border=\"1\" class=\"dataframe\">\n",
       "  <thead>\n",
       "    <tr style=\"text-align: right;\">\n",
       "      <th></th>\n",
       "      <th>0</th>\n",
       "      <th>1</th>\n",
       "      <th>2</th>\n",
       "      <th>3</th>\n",
       "      <th>4</th>\n",
       "      <th>5</th>\n",
       "      <th>6</th>\n",
       "      <th>7</th>\n",
       "      <th>8</th>\n",
       "      <th>9</th>\n",
       "      <th>...</th>\n",
       "      <th>12</th>\n",
       "      <th>13</th>\n",
       "      <th>14</th>\n",
       "      <th>15</th>\n",
       "      <th>16</th>\n",
       "      <th>17</th>\n",
       "      <th>18</th>\n",
       "      <th>19</th>\n",
       "      <th>20</th>\n",
       "      <th>21</th>\n",
       "    </tr>\n",
       "  </thead>\n",
       "  <tbody>\n",
       "    <tr>\n",
       "      <th>0</th>\n",
       "      <td>0</td>\n",
       "      <td>147</td>\n",
       "      <td>635</td>\n",
       "      <td>383</td>\n",
       "      <td>515</td>\n",
       "      <td>392</td>\n",
       "      <td>561</td>\n",
       "      <td>423</td>\n",
       "      <td>404</td>\n",
       "      <td>248</td>\n",
       "      <td>...</td>\n",
       "      <td>338</td>\n",
       "      <td>617</td>\n",
       "      <td>662</td>\n",
       "      <td>703</td>\n",
       "      <td>250</td>\n",
       "      <td>643</td>\n",
       "      <td>307</td>\n",
       "      <td>487</td>\n",
       "      <td>296</td>\n",
       "      <td>659</td>\n",
       "    </tr>\n",
       "    <tr>\n",
       "      <th>1</th>\n",
       "      <td>147</td>\n",
       "      <td>0</td>\n",
       "      <td>523</td>\n",
       "      <td>271</td>\n",
       "      <td>403</td>\n",
       "      <td>280</td>\n",
       "      <td>513</td>\n",
       "      <td>344</td>\n",
       "      <td>292</td>\n",
       "      <td>136</td>\n",
       "      <td>...</td>\n",
       "      <td>226</td>\n",
       "      <td>505</td>\n",
       "      <td>550</td>\n",
       "      <td>590</td>\n",
       "      <td>138</td>\n",
       "      <td>531</td>\n",
       "      <td>195</td>\n",
       "      <td>375</td>\n",
       "      <td>184</td>\n",
       "      <td>547</td>\n",
       "    </tr>\n",
       "    <tr>\n",
       "      <th>2</th>\n",
       "      <td>585</td>\n",
       "      <td>473</td>\n",
       "      <td>0</td>\n",
       "      <td>304</td>\n",
       "      <td>699</td>\n",
       "      <td>438</td>\n",
       "      <td>652</td>\n",
       "      <td>510</td>\n",
       "      <td>400</td>\n",
       "      <td>416</td>\n",
       "      <td>...</td>\n",
       "      <td>300</td>\n",
       "      <td>366</td>\n",
       "      <td>496</td>\n",
       "      <td>541</td>\n",
       "      <td>434</td>\n",
       "      <td>781</td>\n",
       "      <td>341</td>\n",
       "      <td>530</td>\n",
       "      <td>377</td>\n",
       "      <td>408</td>\n",
       "    </tr>\n",
       "    <tr>\n",
       "      <th>3</th>\n",
       "      <td>412</td>\n",
       "      <td>300</td>\n",
       "      <td>251</td>\n",
       "      <td>0</td>\n",
       "      <td>526</td>\n",
       "      <td>265</td>\n",
       "      <td>609</td>\n",
       "      <td>337</td>\n",
       "      <td>277</td>\n",
       "      <td>243</td>\n",
       "      <td>...</td>\n",
       "      <td>127</td>\n",
       "      <td>439</td>\n",
       "      <td>535</td>\n",
       "      <td>445</td>\n",
       "      <td>261</td>\n",
       "      <td>604</td>\n",
       "      <td>168</td>\n",
       "      <td>388</td>\n",
       "      <td>204</td>\n",
       "      <td>480</td>\n",
       "    </tr>\n",
       "    <tr>\n",
       "      <th>4</th>\n",
       "      <td>530</td>\n",
       "      <td>418</td>\n",
       "      <td>755</td>\n",
       "      <td>503</td>\n",
       "      <td>0</td>\n",
       "      <td>512</td>\n",
       "      <td>575</td>\n",
       "      <td>576</td>\n",
       "      <td>524</td>\n",
       "      <td>337</td>\n",
       "      <td>...</td>\n",
       "      <td>458</td>\n",
       "      <td>737</td>\n",
       "      <td>782</td>\n",
       "      <td>609</td>\n",
       "      <td>298</td>\n",
       "      <td>264</td>\n",
       "      <td>427</td>\n",
       "      <td>393</td>\n",
       "      <td>416</td>\n",
       "      <td>779</td>\n",
       "    </tr>\n",
       "  </tbody>\n",
       "</table>\n",
       "<p>5 rows × 22 columns</p>\n",
       "</div>"
      ],
      "text/plain": [
       "    0    1    2    3    4    5    6    7    8    9  ...    12   13   14   15  \\\n",
       "0    0  147  635  383  515  392  561  423  404  248 ...   338  617  662  703   \n",
       "1  147    0  523  271  403  280  513  344  292  136 ...   226  505  550  590   \n",
       "2  585  473    0  304  699  438  652  510  400  416 ...   300  366  496  541   \n",
       "3  412  300  251    0  526  265  609  337  277  243 ...   127  439  535  445   \n",
       "4  530  418  755  503    0  512  575  576  524  337 ...   458  737  782  609   \n",
       "\n",
       "    16   17   18   19   20   21  \n",
       "0  250  643  307  487  296  659  \n",
       "1  138  531  195  375  184  547  \n",
       "2  434  781  341  530  377  408  \n",
       "3  261  604  168  388  204  480  \n",
       "4  298  264  427  393  416  779  \n",
       "\n",
       "[5 rows x 22 columns]"
      ]
     },
     "metadata": {},
     "output_type": "display_data"
    }
   ],
   "source": [
    "api_key = '58d904a497c67e00015b45fc9298e8d961e64b48b066a43e51d39887'\n",
    "client = openrouteservice.Client(key=api_key)\n",
    "\n",
    "response = client.distance_matrix(locations=df_CVRP.iloc[:, :2].as_matrix().tolist(), metrics=['duration'])\n",
    "duration_matrix = np.array(response['durations']).astype(int)\n",
    "df_duration_matrix = pd.DataFrame(duration_matrix)\n",
    "display(df_duration_matrix.head())"
   ]
  },
  {
   "cell_type": "markdown",
   "metadata": {},
   "source": [
    "As we can see the openrouteservice API returns a symmetric distance matrix with the diagonal being zeros, since the distance of every node to itself is zero. In the next step, we use the or-tool on the obtained distance matrix. For this purpose, we first initialize some variables and declare the or-tool solver:"
   ]
  },
  {
   "cell_type": "code",
   "execution_count": 4,
   "metadata": {
    "collapsed": true
   },
   "outputs": [],
   "source": [
    "locations = df_CVRP.iloc[:, :2].as_matrix()\n",
    "demands = df_CVRP.iloc[:, 2].as_matrix()\n",
    "num_locations = len(locations)\n",
    "depot = 0    # The depot is the start and end point of each route.\n",
    "num_vehicles = 4\n",
    "\n",
    "# Create routing model.\n",
    "routing = pywrapcp.RoutingModel(num_locations, num_vehicles, depot)"
   ]
  },
  {
   "cell_type": "markdown",
   "metadata": {},
   "source": [
    "The SetArcCostEvaluatorOfAllVehicles() method of the or-tool requires a callable object. Therefore we have to wrap the distance matrix and the demands within a class with suitable methods that can be called by the SetArcCostEvaluatorOfAllVehicles() method. "
   ]
  },
  {
   "cell_type": "code",
   "execution_count": 5,
   "metadata": {
    "collapsed": true
   },
   "outputs": [],
   "source": [
    "class matrix_obj(object):\n",
    "    def __init__(self, matrix):\n",
    "        self.matrix = matrix\n",
    "    def Distance(self, from_node, to_node):\n",
    "        return self.matrix[from_node][to_node]\n",
    "    \n",
    "class demand_obj(object):\n",
    "    def __init__(self, demands):\n",
    "        self.demands = demands\n",
    "    def Demand(self, from_node, to_node):\n",
    "        return self.demands[from_node]\n",
    "    \n",
    "# distance callback\n",
    "get_duration = matrix_obj(duration_matrix).Distance\n",
    "routing.SetArcCostEvaluatorOfAllVehicles(get_duration)\n",
    "\n",
    "# demand callback\n",
    "get_demand = demand_obj(demands).Demand"
   ]
  },
  {
   "cell_type": "markdown",
   "metadata": {},
   "source": [
    "Routing problems involve quantities that accumulate along a vehicle's route. The routing solver stores each quantity of this type in an object called a dimension. We now need to add the demand as a new dimension to the routing model. We can do this with the AddDimension() method by providing the demand callback and the vehicle capacity, which is 100 in our case. For every location where a vehicle stops along its route, the total demand on the vehicle increases by the demand at that location.  "
   ]
  },
  {
   "cell_type": "code",
   "execution_count": 6,
   "metadata": {},
   "outputs": [
    {
     "data": {
      "text/plain": [
       "True"
      ]
     },
     "execution_count": 6,
     "metadata": {},
     "output_type": "execute_result"
    }
   ],
   "source": [
    "routing.AddDimension(get_demand, 0, 100, True, \"Capacity\")"
   ]
  },
  {
   "cell_type": "code",
   "execution_count": null,
   "metadata": {
    "collapsed": true
   },
   "outputs": [],
   "source": [
    "search_parameters = pywrapcp.RoutingModel.DefaultModelParameters()\n",
    "#search_parameters.first_solution_strategy = (routing_enums_pb2.FirstSolutionStrategy.LOCAL_CHEAPEST_ARC)"
   ]
  },
  {
   "cell_type": "markdown",
   "metadata": {},
   "source": [
    "The last step is to solve the routing model and display the solution:"
   ]
  },
  {
   "cell_type": "code",
   "execution_count": null,
   "metadata": {
    "collapsed": true
   },
   "outputs": [],
   "source": [
    "assignment = routing.SolveWithParameters(search_parameters) # this line is responsible for jupyter kernel crash, reason unknown"
   ]
  },
  {
   "cell_type": "code",
   "execution_count": null,
   "metadata": {
    "collapsed": true
   },
   "outputs": [],
   "source": [
    "if assignment:\n",
    "    print(\"Total distance of all routes: \" + str(assignment.ObjectiveValue()) + \"\\n\")\n",
    "    for vehicle_nbr in range(num_vehicles):\n",
    "        index = routing.Start(vehicle_nbr)\n",
    "        index_next = assignment.Value(routing.NextVar(index))\n",
    "        route = ''\n",
    "        route_dist = 0\n",
    "        route_demand = 0\n",
    "\n",
    "        while (not routing.IsEnd(index_next)):\n",
    "            node_index = routing.IndexToNode(index)\n",
    "            node_index_next = routing.IndexToNode(index_next)\n",
    "            route += str(node_index) + \" -> \"\n",
    "            # Add the distance to the next node.\n",
    "            route_dist += dist_callback(node_index, node_index_next)\n",
    "            # Add demand.\n",
    "            route_demand += demands[node_index_next]\n",
    "            index = index_next\n",
    "            index_next = assignment.Value(routing.NextVar(index))\n",
    "\n",
    "        node_index = routing.IndexToNode(index)\n",
    "        node_index_next = routing.IndexToNode(index_next)\n",
    "        route += str(node_index) + \" -> \" + str(node_index_next)\n",
    "        route_dist += dist_callback(node_index, node_index_next)\n",
    "        print(\"Route for vehicle \" + str(vehicle_nbr) + \":\\n\\n\" + route + \"\\n\")\n",
    "        print(\"Distance of route \" + str(vehicle_nbr) + \": \" + str(route_dist))\n",
    "        print(\"Demand met by vehicle \" + str(vehicle_nbr) + \": \" + str(route_demand) + \"\\n\")\n",
    "else:\n",
    "    print('No solution found.')\n"
   ]
  },
  {
   "cell_type": "code",
   "execution_count": null,
   "metadata": {
    "collapsed": true
   },
   "outputs": [],
   "source": [
    "help(pywrapcp.RoutingModel.SolveWithParameters(search_parameters))"
   ]
  },
  {
   "cell_type": "markdown",
   "metadata": {
    "collapsed": true
   },
   "source": [
    "# Adding Time Window Constraint"
   ]
  },
  {
   "cell_type": "code",
   "execution_count": null,
   "metadata": {
    "collapsed": true
   },
   "outputs": [],
   "source": []
  },
  {
   "cell_type": "code",
   "execution_count": null,
   "metadata": {
    "collapsed": true
   },
   "outputs": [],
   "source": []
  }
 ],
 "metadata": {
  "kernelspec": {
   "display_name": "Python 3",
   "language": "python",
   "name": "python3"
  },
  "language_info": {
   "codemirror_mode": {
    "name": "ipython",
    "version": 3
   },
   "file_extension": ".py",
   "mimetype": "text/x-python",
   "name": "python",
   "nbconvert_exporter": "python",
   "pygments_lexer": "ipython3",
   "version": "3.6.3"
  }
 },
 "nbformat": 4,
 "nbformat_minor": 2
}

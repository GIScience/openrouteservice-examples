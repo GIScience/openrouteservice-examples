{
 "cells": [
  {
   "cell_type": "code",
   "execution_count": 5,
   "metadata": {},
   "outputs": [],
   "source": [
    "#from openrouteservice.geocode import pelias_autocomplete\n",
    "import openrouteservice\n",
    "from openrouteservice import geocode, client\n",
    "\n",
    "import ipywidgets as widgets\n",
    "from ipywidgets import widgets, Layout\n",
    "from IPython.display import display, clear_output\n",
    "import functools\n",
    "import concurrent.futures\n",
    "from pprint import pprint\n",
    "import asyncio\n",
    "import time\n",
    "\n",
    "#import folium\n",
    "# from shapely.geometry import LineString, Polygon, mapping\n",
    "# from shapely.ops import cascaded_union\n",
    "\n",
    "\n",
    "# Basic parameters\n",
    "api_key = '' #'your_key' #https://openrouteservice.org/sign-up\n",
    "clnt = client.Client(key=api_key)"
   ]
  },
  {
   "cell_type": "code",
   "execution_count": 2,
   "metadata": {},
   "outputs": [],
   "source": [
    "%gui asyncio"
   ]
  },
  {
   "cell_type": "code",
   "execution_count": 3,
   "metadata": {},
   "outputs": [],
   "source": [
    "def wait_for_change(widget, value):\n",
    "    future = asyncio.Future()\n",
    "    def getvalue(change):\n",
    "        # make the new value available\n",
    "        future.set_result(change.new)\n",
    "        widget.unobserve(getvalue, value)\n",
    "    widget.observe(getvalue, value)\n",
    "    return future\n",
    "\n",
    "def autocomplete_address(input_text):\n",
    "    poi_start = geocode.pelias_autocomplete(client=clnt, text={input_text.value}, focus_point = [13.406582, 52.520765])\n",
    "    return poi_start "
   ]
  },
  {
   "cell_type": "code",
   "execution_count": 6,
   "metadata": {},
   "outputs": [
    {
     "data": {
      "application/vnd.jupyter.widget-view+json": {
       "model_id": "bedb9dc4eb64460cb14039f1c336a9aa",
       "version_major": 2,
       "version_minor": 0
      },
      "text/plain": [
       "Text(value='', description='Start:')"
      ]
     },
     "metadata": {},
     "output_type": "display_data"
    },
    {
     "data": {
      "application/vnd.jupyter.widget-view+json": {
       "model_id": "22855da94893469c866d1cf47555eab5",
       "version_major": 2,
       "version_minor": 0
      },
      "text/plain": [
       "Select(layout=Layout(width='50%'), options=(' - ',), value=' - ')"
      ]
     },
     "metadata": {},
     "output_type": "display_data"
    },
    {
     "data": {
      "application/vnd.jupyter.widget-view+json": {
       "model_id": "bf5648dd1d774e23b97d9f9f44fe0ae0",
       "version_major": 2,
       "version_minor": 0
      },
      "text/plain": [
       "Text(value='', description='Destination:')"
      ]
     },
     "metadata": {},
     "output_type": "display_data"
    },
    {
     "data": {
      "application/vnd.jupyter.widget-view+json": {
       "model_id": "a179414409764fea9bfddba11bb46e23",
       "version_major": 2,
       "version_minor": 0
      },
      "text/plain": [
       "Select(layout=Layout(width='50%'), options=(' - ',), value=' - ')"
      ]
     },
     "metadata": {},
     "output_type": "display_data"
    }
   ],
   "source": [
    "### works\n",
    "\n",
    "received_start = []\n",
    "\n",
    "\n",
    "input_start = widgets.Text(description = \"Start:\")\n",
    "choice_start = widgets.Select(\n",
    "            options=[' - '],\n",
    "            #disabled=False,\n",
    "            layout=Layout(width=\"50%\"))\n",
    "\n",
    "\n",
    "input_dest = widgets.Text(description = \"Destination:\")\n",
    "choice_dest = widgets.Select(\n",
    "            options=[' - '],\n",
    "            #disabled=False,\n",
    "            layout=Layout(width=\"50%\"))\n",
    "\n",
    "try:\n",
    "    async def text(): \n",
    "        for i in range(30):\n",
    "            time.sleep(0.5)\n",
    "            poi_list_start = set([])\n",
    "            x = await wait_for_change(input_start, 'value')\n",
    "            poi_start = autocomplete_address(input_start)\n",
    "            for poi in poi_start['features']:\n",
    "                poi_list_start.update([poi['properties']['name']])\n",
    "            choice_start.options=poi_list_start\n",
    "            #received_start.append(poi_start)\n",
    "\n",
    "    asyncio.ensure_future(text())     \n",
    "    \n",
    "    \n",
    "    async def text_dest():\n",
    "        for j in range(30):\n",
    "            poi_list_dest = set([])\n",
    "            time.sleep(0.5)\n",
    "            y = await wait_for_change(input_dest, 'value')\n",
    "            poi_dest = autocomplete_address(input_dest)\n",
    "            for poi in poi_dest['features']:\n",
    "                poi_list_dest.update([poi['properties']['name']])\n",
    "            choice_dest.options=poi_list_dest\n",
    "    \n",
    "    asyncio.ensure_future(text_dest())  \n",
    "    \n",
    "except Exception:\n",
    "    pass\n",
    "    \n",
    "display(input_start, choice_start)\n",
    "display(input_dest, choice_dest)"
   ]
  },
  {
   "cell_type": "code",
   "execution_count": null,
   "metadata": {},
   "outputs": [],
   "source": []
  }
 ],
 "metadata": {
  "kernelspec": {
   "display_name": "Python 3",
   "language": "python",
   "name": "python3"
  },
  "language_info": {
   "codemirror_mode": {
    "name": "ipython",
    "version": 3
   },
   "file_extension": ".py",
   "mimetype": "text/x-python",
   "name": "python",
   "nbconvert_exporter": "python",
   "pygments_lexer": "ipython3",
   "version": "3.6.4"
  }
 },
 "nbformat": 4,
 "nbformat_minor": 2
}

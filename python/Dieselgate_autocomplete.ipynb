{
 "cells": [
  {
   "cell_type": "code",
   "execution_count": 50,
   "metadata": {},
   "outputs": [],
   "source": [
    "from IPython.display import HTML"
   ]
  },
  {
   "cell_type": "code",
   "execution_count": 59,
   "metadata": {},
   "outputs": [
    {
     "data": {
      "text/html": [
       "<script>\n",
       "code_show=true; \n",
       "function code_toggle() {\n",
       " if (code_show){\n",
       " $('div.input').hide();\n",
       " $('#code').text('Show code');\n",
       " $('#code').attr('class', 'btn btn-danger');\n",
       " } else {\n",
       " $('div.input').show();\n",
       " $('#code').text('Hide code');\n",
       " $('#code').attr('class', 'btn btn-success');\n",
       " }\n",
       " code_show = !code_show\n",
       "} \n",
       "$( document ).ready(code_toggle);\n",
       "</script>\n",
       "The raw code for this IPython notebook is by default hidden for easier reading.\n",
       "To toggle on/off the raw code, click <br><br>\n",
       "<center>\n",
       "<button style='height: 50px; width: 200px; font-size: 2em' id=\"code\" type=\"button\" onclick=\"javascript:code_toggle()\">here</button>\n",
       "</center>"
      ],
      "text/plain": [
       "<IPython.core.display.HTML object>"
      ]
     },
     "execution_count": 59,
     "metadata": {},
     "output_type": "execute_result"
    }
   ],
   "source": [
    "HTML('''<script>\n",
    "code_show=true; \n",
    "function code_toggle() {\n",
    " if (code_show){\n",
    " $('div.input').hide();\n",
    " $('#code').text('Show code');\n",
    " $('#code').attr('class', 'btn btn-danger');\n",
    " } else {\n",
    " $('div.input').show();\n",
    " $('#code').text('Hide code');\n",
    " $('#code').attr('class', 'btn btn-success');\n",
    " }\n",
    " code_show = !code_show\n",
    "} \n",
    "$( document ).ready(code_toggle);\n",
    "</script>\n",
    "The raw code for this IPython notebook is by default hidden for easier reading.\n",
    "To toggle on/off the raw code, click <br><br>\n",
    "<center>\n",
    "<button style='height: 50px; width: 200px; font-size: 2em' id=\"code\" type=\"button\" onclick=\"javascript:code_toggle()\">here</button>\n",
    "</center>''')\n"
   ]
  },
  {
   "cell_type": "markdown",
   "metadata": {},
   "source": [
    "# Dieselgate Routing\n",
    "\n",
    "From march 2019 on, Berlin will impose the Diesel ban. The following streets will be affected: Leipziger Straße, Reinhardstraße, Friedrichstraße, Brückenstraße, Kapweg, Alt-Moabit, Stromstraße und Leonorenstraße. A recent [Spiegel](https://www.spiegel.de) comic illustrated the issue:\n",
    "\n",
    "![title](http://cdn3.spiegel.de/images/image-1349732-galleryV9-ikww-1349732.jpg)\n",
    "© [SPIEGEL](https://www.spiegel.de)\n",
    "\n",
    "This notebook explores the validity of the comic's claim. It gives you the opportunity to check if and how your usual route will be affected and how an alternative route could look like. "
   ]
  },
  {
   "cell_type": "code",
   "execution_count": 113,
   "metadata": {},
   "outputs": [],
   "source": [
    "# Needed packages\n",
    "import openrouteservice\n",
    "from openrouteservice import geocode, client\n",
    "\n",
    "import ipywidgets as widgets\n",
    "from ipywidgets import Layout\n",
    "from IPython.display import display, clear_output, HTML\n",
    "#import functools\n",
    "#import concurrent.futures\n",
    "import asyncio\n",
    "import time\n",
    "import folium\n",
    "from shapely.geometry import LineString, Polygon, mapping\n",
    "from shapely.ops import cascaded_union\n",
    "\n",
    "\n",
    "# Basic parameters\n",
    "api_key = 'your_key' #https://openrouteservice.org/sign-up\n",
    "clnt = client.Client(key='5b3ce3597851110001cf624870cf2f2a58d44c718542b3088221b684')"
   ]
  },
  {
   "cell_type": "code",
   "execution_count": 114,
   "metadata": {},
   "outputs": [
    {
     "name": "stderr",
     "output_type": "stream",
     "text": [
      "ERROR:root:Invalid GUI request 'asyncio # Needed for interacting tool', valid ones are:dict_keys(['inline', 'nbagg', 'notebook', 'ipympl', 'widget', None, 'qt4', 'qt', 'qt5', 'wx', 'tk', 'gtk', 'gtk3', 'osx', 'asyncio'])\n"
     ]
    }
   ],
   "source": [
    "%gui asyncio # Needed for interacting tool"
   ]
  },
  {
   "cell_type": "code",
   "execution_count": 115,
   "metadata": {},
   "outputs": [],
   "source": [
    "# Waits for user to type in address\n",
    "def wait_for_change(widget, value):\n",
    "    future = asyncio.Future()\n",
    "    def getvalue(change):\n",
    "        # make the new value available\n",
    "        future.set_result(change.new)\n",
    "        widget.unobserve(getvalue, value)\n",
    "    widget.observe(getvalue, value)\n",
    "    return future\n",
    "\n",
    "# Autocompletes the typed in address; Focus on Berlin\n",
    "def autocomplete_address(input_text):\n",
    "    poi_start = geocode.pelias_autocomplete(client=clnt, text=input_text.value, focus_point = [13.406582, 52.520765])\n",
    "    return poi_start \n",
    "\n",
    "# To style data\n",
    "def style_function(color): \n",
    "    return lambda feature: dict(color=color,\n",
    "                                opacity=0.6,\n",
    "                                weight=5,)"
   ]
  },
  {
   "cell_type": "markdown",
   "metadata": {},
   "source": [
    "### Regular Route\n",
    "\n",
    "Type in and chose your start and goal location and check out the shortest route which will be valid until march 2019. The map focus' on Berlin, but locations in other cities and countries can be chosen, too. Just give it try."
   ]
  },
  {
   "cell_type": "code",
   "execution_count": 161,
   "metadata": {
    "code_folding": []
   },
   "outputs": [
    {
     "data": {
      "application/vnd.jupyter.widget-view+json": {
       "model_id": "1b8e4e4d1d7e4de0add46e1a10d0477d",
       "version_major": 2,
       "version_minor": 0
      },
      "text/plain": [
       "Text(value='', description='Start:')"
      ]
     },
     "metadata": {},
     "output_type": "display_data"
    },
    {
     "data": {
      "application/vnd.jupyter.widget-view+json": {
       "model_id": "1cf944ccc5364d86816caaafc4efd4c5",
       "version_major": 2,
       "version_minor": 0
      },
      "text/plain": [
       "Select(layout=Layout(width='50%'), options=(), value=None)"
      ]
     },
     "metadata": {},
     "output_type": "display_data"
    },
    {
     "data": {
      "application/vnd.jupyter.widget-view+json": {
       "model_id": "2744b472b2f847cea2682908e7b66e25",
       "version_major": 2,
       "version_minor": 0
      },
      "text/plain": [
       "Text(value='', description='Destination:')"
      ]
     },
     "metadata": {},
     "output_type": "display_data"
    },
    {
     "data": {
      "application/vnd.jupyter.widget-view+json": {
       "model_id": "9de1cd28743342f08519eec2b86de7e9",
       "version_major": 2,
       "version_minor": 0
      },
      "text/plain": [
       "Select(layout=Layout(width='50%'), options=(), value=None)"
      ]
     },
     "metadata": {},
     "output_type": "display_data"
    }
   ],
   "source": [
    "# Create interactive widgets\n",
    "input_start = widgets.Text(description = \"Start:\")\n",
    "choice_start = widgets.Select(\n",
    "            options=[],\n",
    "            layout=Layout(width=\"50%\"))\n",
    "\n",
    "input_dest = widgets.Text(description = \"Destination:\")\n",
    "choice_dest = widgets.Select(\n",
    "            options=[],\n",
    "            layout=Layout(width=\"50%\"))\n",
    "\n",
    "try:\n",
    "    # Search for start address\n",
    "    async def text(): \n",
    "        for i in range(30):\n",
    "            time.sleep(0.5)\n",
    "            poi_list_start = []\n",
    "            x = await wait_for_change(input_start, 'value')\n",
    "            poi_start = autocomplete_address(input_start)\n",
    "            for poi in poi_start['features']:\n",
    "                poi_list_start += [(poi['properties']['label'], poi['geometry']['coordinates'])]\n",
    "            choice_start.options=poi_list_start\n",
    "    asyncio.ensure_future(text())     \n",
    "    \n",
    "    # Search for destination address\n",
    "    async def text_dest():\n",
    "        for j in range(30):\n",
    "            poi_list_dest = []\n",
    "            time.sleep(0.5)\n",
    "            y = await wait_for_change(input_dest, 'value')\n",
    "            poi_dest = autocomplete_address(input_dest)\n",
    "            for poi in poi_dest['features']:\n",
    "                poi_list_dest += [(poi['properties']['label'], poi['geometry']['coordinates'])]\n",
    "            choice_dest.options=poi_list_dest\n",
    "    asyncio.ensure_future(text_dest())   \n",
    "    \n",
    "except Exception:\n",
    "    pass\n",
    "    \n",
    "display(input_start, choice_start)\n",
    "display(input_dest, choice_dest)"
   ]
  },
  {
   "cell_type": "markdown",
   "metadata": {},
   "source": [
    "Click on the route, visualized on the map, to get information about the duration and distance."
   ]
  },
  {
   "cell_type": "code",
   "execution_count": 171,
   "metadata": {},
   "outputs": [
    {
     "data": {
      "text/plain": [
       "()"
      ]
     },
     "execution_count": 171,
     "metadata": {},
     "output_type": "execute_result"
    }
   ],
   "source": [
    "choice_dest.options"
   ]
  },
  {
   "cell_type": "code",
   "execution_count": 172,
   "metadata": {},
   "outputs": [],
   "source": [
    "if (choice_start.options or choice_dest.options is None:\n",
    "    print('Start and destination are required.')\n",
    "# else:\n",
    "#     print(choice_start.options)\n",
    "        "
   ]
  },
  {
   "cell_type": "code",
   "execution_count": 167,
   "metadata": {},
   "outputs": [
    {
     "ename": "TypeError",
     "evalue": "'NoneType' object is not reversible",
     "output_type": "error",
     "traceback": [
      "\u001b[0;31m\u001b[0m",
      "\u001b[0;31mTypeError\u001b[0mTraceback (most recent call last)",
      "\u001b[0;32m<ipython-input-167-a20cade3e8ef>\u001b[0m in \u001b[0;36m<module>\u001b[0;34m()\u001b[0m\n\u001b[1;32m     10\u001b[0m                             zoom_start=12) # Create map\n\u001b[1;32m     11\u001b[0m \u001b[0;34m\u001b[0m\u001b[0m\n\u001b[0;32m---> 12\u001b[0;31m     \u001b[0mfolium\u001b[0m\u001b[0;34m.\u001b[0m\u001b[0mMarker\u001b[0m\u001b[0;34m(\u001b[0m\u001b[0mlist\u001b[0m\u001b[0;34m(\u001b[0m\u001b[0mreversed\u001b[0m\u001b[0;34m(\u001b[0m\u001b[0mchoice_start\u001b[0m\u001b[0;34m.\u001b[0m\u001b[0mvalue\u001b[0m\u001b[0;34m)\u001b[0m\u001b[0;34m)\u001b[0m\u001b[0;34m,\u001b[0m \u001b[0mpopup\u001b[0m\u001b[0;34m=\u001b[0m\u001b[0mchoice_start\u001b[0m\u001b[0;34m.\u001b[0m\u001b[0mlabel\u001b[0m\u001b[0;34m)\u001b[0m\u001b[0;34m.\u001b[0m\u001b[0madd_to\u001b[0m\u001b[0;34m(\u001b[0m\u001b[0mmap_berlin\u001b[0m\u001b[0;34m)\u001b[0m\u001b[0;34m\u001b[0m\u001b[0m\n\u001b[0m\u001b[1;32m     13\u001b[0m     \u001b[0mfolium\u001b[0m\u001b[0;34m.\u001b[0m\u001b[0mMarker\u001b[0m\u001b[0;34m(\u001b[0m\u001b[0mlist\u001b[0m\u001b[0;34m(\u001b[0m\u001b[0mreversed\u001b[0m\u001b[0;34m(\u001b[0m\u001b[0mchoice_dest\u001b[0m\u001b[0;34m.\u001b[0m\u001b[0mvalue\u001b[0m\u001b[0;34m)\u001b[0m\u001b[0;34m)\u001b[0m\u001b[0;34m,\u001b[0m \u001b[0mpopup\u001b[0m\u001b[0;34m=\u001b[0m\u001b[0mchoice_dest\u001b[0m\u001b[0;34m.\u001b[0m\u001b[0mlabel\u001b[0m\u001b[0;34m)\u001b[0m\u001b[0;34m.\u001b[0m\u001b[0madd_to\u001b[0m\u001b[0;34m(\u001b[0m\u001b[0mmap_berlin\u001b[0m\u001b[0;34m)\u001b[0m\u001b[0;34m\u001b[0m\u001b[0m\n\u001b[1;32m     14\u001b[0m \u001b[0;34m\u001b[0m\u001b[0m\n",
      "\u001b[0;31mTypeError\u001b[0m: 'NoneType' object is not reversible"
     ]
    }
   ],
   "source": [
    "if choice_start.options is None or choice_dest.options is None:\n",
    "    print('Start and destination are required.')\n",
    "else:\n",
    "\n",
    "#try:\n",
    "    # Create map of Berlin with chosen locations\n",
    "    map_berlin = folium.Map(tiles='https://korona.geog.uni-heidelberg.de/tiles/roads/x={x}&y={y}&z={z}', \n",
    "                            attr='Map data (c) OpenStreetMap, Tiles (c) <a href=\"https://heigit.org\">GIScience Heidelberg</a>', \n",
    "                            location=([52.516586, 13.381047]), \n",
    "                            zoom_start=12) # Create map\n",
    "\n",
    "    folium.Marker(list(reversed(choice_start.value)), popup=choice_start.label).add_to(map_berlin)\n",
    "    folium.Marker(list(reversed(choice_dest.value)), popup=choice_dest.label).add_to(map_berlin)\n",
    "\n",
    "\n",
    "    # Regular Route\n",
    "    popup_route = \"<h4>{0} route</h4><hr>\" \\\n",
    "                 \"<strong>Duration: </strong>{1:.1f} mins<br>\" \\\n",
    "                 \"<strong>Distance: </strong>{2:.3f} km\" \n",
    "\n",
    "    # Request route\n",
    "    direction_params = {'coordinates': [choice_start.value, choice_dest.value],\n",
    "                        'profile': 'driving-car', \n",
    "                        'format_out': 'geojson',\n",
    "                        'preference': 'shortest',\n",
    "                        'optimized': True,\n",
    "                        'geometry': 'true'}\n",
    "\n",
    "    regular_route = clnt.directions(**direction_params) # Direction request\n",
    "\n",
    "    # Build popup\n",
    "    duration, distance = regular_route['features'][0]['properties']['summary'][0].values()\n",
    "    popup = folium.Popup(popup_route.format('Regular', \n",
    "                                                     duration/60, \n",
    "                                                     distance/1000))\n",
    "\n",
    "    gj= folium.GeoJson(regular_route,\n",
    "                       name='Regular Route',\n",
    "                       style_function=style_function('blue')).add_child(popup).add_to(map_berlin)\n",
    "\n",
    "\n",
    "    # Start and destination coordinates of affectes streets\n",
    "    avoid_streets = [{'name':'Friedrichstraße', 'coords': [[13.38859, 52.518526], [13.388611, 52.518193]]}, \n",
    "                     {'name': 'Leipziger Straße', 'coords': [[13.381487, 52.509829], [13.383805, 52.509998]]},\n",
    "                     {'name': 'Leipziger Straße', 'coords': [[13.387742, 52.51022], [13.389534, 52.510338]]},\n",
    "                     {'name': 'Leipziger Straße', 'coords': [[13.39022, 52.510384], [13.391529, 52.510449]]},\n",
    "                     {'name': 'Brückenstraße', 'coords': [[13.416549, 52.511193], [13.418105, 52.515209]]},\n",
    "                     {'name': 'Kapweg', 'coords': [[13.326995, 52.56248], [13.330343, 52.562349]]},\n",
    "                     {'name': 'Reinhardtstraße', 'coords': [[13.376777, 52.522098], [13.377131, 52.522162]]},\n",
    "                     {'name': 'Reinhardtstraße', 'coords': [[13.377657, 52.522266], [13.379041, 52.522488]]},\n",
    "                     {'name': 'Alt-Moabit', 'coords': [[13.32765, 52.524316], [13.329313, 52.523859]]}, \n",
    "                     {'name': 'Leonorenstraße', 'coords': [[13.344741, 52.437556], [13.345503, 52.43645]]},\n",
    "                     {'name': 'Stromstraße', 'coords': [[13.34326, 52.527952], [13.343228, 52.526712]]}]\n",
    "\n",
    "\n",
    "    # Affected streets\n",
    "    buffer = []\n",
    "    for street in avoid_streets:\n",
    "        avoid_params = {'coordinates': street['coords'],\n",
    "                        'profile': 'driving-car', \n",
    "                        'format_out': 'geojson',\n",
    "                        'preference': 'shortest',\n",
    "                        'geometry': 'true'}\n",
    "        avoid_request = clnt.directions(**avoid_params)\n",
    "        coords = avoid_request['features'][0]['geometry']['coordinates']\n",
    "        route_buffer = LineString(coords).buffer(0.0002) # Create geometry buffer\n",
    "        folium.PolyLine([(y,x) for x,y in list(route_buffer.exterior.coords)],\n",
    "                        color='#cc0000', fill_color='#cc0000',\n",
    "                        popup=street['name']).add_to(map_berlin)\n",
    "        simp_geom = route_buffer.simplify(0.0002) # Simplify geometry for better handling\n",
    "        buffer.append(simp_geom)\n",
    "    union_buffer = cascaded_union(buffer)\n",
    "\n",
    "\n",
    "    # New routing with avoided streets\n",
    "    diesel_request = {'coordinates': [choice_start.value, choice_dest.value], \n",
    "                    'format_out': 'geojson',\n",
    "                    'profile': 'driving-car',\n",
    "                    'preference': 'shortest',\n",
    "                    'instructions': False,\n",
    "                     'options': {'avoid_polygons': mapping(union_buffer)}} \n",
    "    route_diesel = clnt.directions(**diesel_request)\n",
    "\n",
    "    # Build popup\n",
    "    duration, distance = route_diesel['features'][0]['properties']['summary'][0].values()\n",
    "    popup = folium.Popup(popup_route.format('Diesel Route',\n",
    "                                                     duration/60,\n",
    "                                                     distance/1000))\n",
    "\n",
    "    folium.GeoJson(route_diesel,\n",
    "                   style_function=style_function('#009900'), \n",
    "                   name='Route after Jan 2019').add_child(popup).add_to(map_berlin)\n",
    "\n",
    "\n",
    "    map_berlin.add_child(folium.map.LayerControl())\n",
    "    map_berlin  \n",
    "    \n",
    "# except Exception:\n",
    "#     pass"
   ]
  },
  {
   "cell_type": "markdown",
   "metadata": {},
   "source": [
    "### Dieselgate Routing\n",
    "\n",
    "Coming soon: The shortest route for a Diesel driver, which must avoid the reddish areas. Then, affected cars can't cross the designated streets anymore. But see for yourself:"
   ]
  },
  {
   "cell_type": "code",
   "execution_count": null,
   "metadata": {},
   "outputs": [],
   "source": [
    "# Start and destination coordinates of affectes streets\n",
    "avoid_streets = [{'name':'Friedrichstraße', 'coords': [[13.38859, 52.518526], [13.388611, 52.518193]]}, \n",
    "                 {'name': 'Leipziger Straße', 'coords': [[13.381487, 52.509829], [13.383805, 52.509998]]},\n",
    "                 {'name': 'Leipziger Straße', 'coords': [[13.387742, 52.51022], [13.389534, 52.510338]]},\n",
    "                 {'name': 'Leipziger Straße', 'coords': [[13.39022, 52.510384], [13.391529, 52.510449]]},\n",
    "                 {'name': 'Brückenstraße', 'coords': [[13.416549, 52.511193], [13.418105, 52.515209]]},\n",
    "                 {'name': 'Kapweg', 'coords': [[13.326995, 52.56248], [13.330343, 52.562349]]},\n",
    "                 {'name': 'Reinhardtstraße', 'coords': [[13.376777, 52.522098], [13.377131, 52.522162]]},\n",
    "                 {'name': 'Reinhardtstraße', 'coords': [[13.377657, 52.522266], [13.379041, 52.522488]]},\n",
    "                 {'name': 'Alt-Moabit', 'coords': [[13.32765, 52.524316], [13.329313, 52.523859]]}, \n",
    "                 {'name': 'Leonorenstraße', 'coords': [[13.344741, 52.437556], [13.345503, 52.43645]]},\n",
    "                 {'name': 'Stromstraße', 'coords': [[13.34326, 52.527952], [13.343228, 52.526712]]}]\n",
    "\n",
    "\n",
    "# Affected streets\n",
    "buffer = []\n",
    "for street in avoid_streets:\n",
    "    avoid_params = {'coordinates': street['coords'],\n",
    "                    'profile': 'driving-car', \n",
    "                    'format_out': 'geojson',\n",
    "                    'preference': 'shortest',\n",
    "                    'geometry': 'true'}\n",
    "    avoid_request = clnt.directions(**avoid_params)\n",
    "    coords = avoid_request['features'][0]['geometry']['coordinates']\n",
    "    route_buffer = LineString(coords).buffer(0.0002) # Create geometry buffer\n",
    "    folium.PolyLine([(y,x) for x,y in list(route_buffer.exterior.coords)],\n",
    "                    color='#cc0000', fill_color='#cc0000',\n",
    "                    popup=street['name']).add_to(map_berlin)\n",
    "    simp_geom = route_buffer.simplify(0.0002) # Simplify geometry for better handling\n",
    "    buffer.append(simp_geom)\n",
    "union_buffer = cascaded_union(buffer)\n",
    "map_berlin"
   ]
  },
  {
   "cell_type": "markdown",
   "metadata": {},
   "source": [
    "The shorted route from A to B will be then be like this:"
   ]
  },
  {
   "cell_type": "code",
   "execution_count": null,
   "metadata": {},
   "outputs": [],
   "source": [
    "# New routing with avoided streets\n",
    "diesel_request = {'coordinates': [choice_start.value, choice_dest.value], \n",
    "                'format_out': 'geojson',\n",
    "                'profile': 'driving-car',\n",
    "                'preference': 'shortest',\n",
    "                'instructions': False,\n",
    "                 'options': {'avoid_polygons': mapping(union_buffer)}} \n",
    "route_diesel = clnt.directions(**diesel_request)\n",
    "\n",
    "# Build popup\n",
    "duration, distance = route_diesel['features'][0]['properties']['summary'][0].values()\n",
    "popup = folium.Popup(popup_route.format('Diesel Route',\n",
    "                                                 duration/60,\n",
    "                                                 distance/1000))\n",
    "\n",
    "folium.GeoJson(route_diesel,\n",
    "               style_function=style_function('#009900'), \n",
    "               name='Route after Jan 2019').add_child(popup).add_to(map_berlin)\n",
    "\n",
    "map_berlin.add_child(folium.map.LayerControl())"
   ]
  },
  {
   "cell_type": "markdown",
   "metadata": {},
   "source": [
    "If your route will be affected by the diesel ban the duration as well as the distance will extend. Click on each route and check out for more information. With the layer control in the top right corner you can turn on and off the different routes."
   ]
  },
  {
   "cell_type": "code",
   "execution_count": null,
   "metadata": {},
   "outputs": [],
   "source": []
  }
 ],
 "metadata": {
  "kernelspec": {
   "display_name": "Python 3",
   "language": "python",
   "name": "python3"
  },
  "language_info": {
   "codemirror_mode": {
    "name": "ipython",
    "version": 3
   },
   "file_extension": ".py",
   "mimetype": "text/x-python",
   "name": "python",
   "nbconvert_exporter": "python",
   "pygments_lexer": "ipython3",
   "version": "3.6.4"
  }
 },
 "nbformat": 4,
 "nbformat_minor": 2
}

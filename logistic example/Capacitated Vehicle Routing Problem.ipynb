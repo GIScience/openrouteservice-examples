{
 "cells": [
  {
   "cell_type": "markdown",
   "metadata": {},
   "source": [
    "# Capacitated Vehicle Routing Problem"
   ]
  },
  {
   "cell_type": "markdown",
   "metadata": {},
   "source": [
    "## TODO:\n",
    "- Some explanation and general info of the capacitated vehicle routing problem here. (Will be inserted later)\n",
    "- Add external file content to notebook\n",
    "- consider difference between cartesian and geographical coordinates (latitude and longitude are actually angle coordinates, not location coordinates)\n",
    "- shorten notebook\n",
    "- display dataframe with .head()\n",
    "- add time window constraint"
   ]
  },
  {
   "cell_type": "markdown",
   "metadata": {},
   "source": [
    "First, we import some useful python packages for solving the capacitated vehicle routing problem."
   ]
  },
  {
   "cell_type": "code",
   "execution_count": 1,
   "metadata": {
    "collapsed": true
   },
   "outputs": [],
   "source": [
    "from IPython.display import display, HTML\n",
    "import openrouteservice\n",
    "import math\n",
    "from ortools.constraint_solver import pywrapcp\n",
    "from ortools.constraint_solver import routing_enums_pb2\n",
    "import folium\n",
    "from shapely import wkt, geometry\n",
    "import json\n",
    "from pprint import pprint\n",
    "import numpy as np \n",
    "import pandas as pd\n",
    "import matplotlib.pyplot as plt\n",
    "import matplotlib.patches as mpatches\n",
    "%matplotlib inline"
   ]
  },
  {
   "cell_type": "markdown",
   "metadata": {},
   "source": [
    "# Setting up the problem"
   ]
  },
  {
   "cell_type": "code",
   "execution_count": 13,
   "metadata": {},
   "outputs": [],
   "source": [
    "CVRP = np.array([[  8.683448,  49.416961,   0  ],\n",
    "                 [  8.681247,  49.412388,  22  ],\n",
    "                 [  8.662789,  49.37446,    7  ],\n",
    "                 [  8.663488,  49.390504,  22  ],\n",
    "                 [  8.650365,  49.424738,   8  ],\n",
    "                 [  8.684574,  49.393819,  17  ],\n",
    "                 [  8.636446,  49.430018,   8  ],\n",
    "                 [  8.693395,  49.401669,  25  ],\n",
    "                 [  8.685109,  49.387783,  17  ],\n",
    "                 [  8.670162,  49.406377,   4  ],\n",
    "                 [  8.63245,   49.409997,  24  ],\n",
    "                 [  8.689162,  49.372064,  23  ],\n",
    "                 [  8.670682,  49.396678,   3  ],\n",
    "                 [  8.690306,  49.372096,  26  ],\n",
    "                 [  8.69358,   49.378182,  13  ],\n",
    "                 [  8.63606,   49.395647,   4  ],\n",
    "                 [  8.670398,  49.408443,  28  ],\n",
    "                 [  8.637578,  49.429881,  25  ],\n",
    "                 [  8.682342,  49.403657,   3  ],\n",
    "                 [  8.64455,   49.413006,   3  ],\n",
    "                 [  8.685483,  49.406815,  16  ],\n",
    "                 [  8.691885,  49.372719,  12  ]])\n",
    "\n",
    "df_CVRP = pd.DataFrame()"
   ]
  },
  {
   "cell_type": "markdown",
   "metadata": {},
   "source": [
    "# Solving the capacitated vehicle routing problem"
   ]
  },
  {
   "cell_type": "markdown",
   "metadata": {},
   "source": [
    "To solve the capacitated vehicle routing problem, we will use the [**google or-tools**](https://github.com/google/or-tools) as well as the [**openrouteservie**](https://openrouteservice.org/). First, we use the matrix API of the openrouteservice, which will give us a symmetric distance or duration matrix for a list of locations/coordinates, where every location is paired with each other. For further explaination please refer to the [**documentation**](https://openrouteservice.org/documentation/#/reference/matrix/matrix). \n",
    "\n",
    "We start with querying a distance matrix from the API. The values of the matrix are given in meters.  \n",
    "\n",
    "Note: If you skipped the previous chapter \"Setting up the problem\", please make sure that you have executed all previous cells in order for the following code to run without complications. "
   ]
  },
  {
   "cell_type": "code",
   "execution_count": 15,
   "metadata": {},
   "outputs": [
    {
     "data": {
      "text/html": [
       "<div>\n",
       "<style scoped>\n",
       "    .dataframe tbody tr th:only-of-type {\n",
       "        vertical-align: middle;\n",
       "    }\n",
       "\n",
       "    .dataframe tbody tr th {\n",
       "        vertical-align: top;\n",
       "    }\n",
       "\n",
       "    .dataframe thead th {\n",
       "        text-align: right;\n",
       "    }\n",
       "</style>\n",
       "<table border=\"1\" class=\"dataframe\">\n",
       "  <thead>\n",
       "    <tr style=\"text-align: right;\">\n",
       "      <th></th>\n",
       "      <th>0</th>\n",
       "      <th>1</th>\n",
       "      <th>2</th>\n",
       "      <th>3</th>\n",
       "      <th>4</th>\n",
       "      <th>5</th>\n",
       "      <th>6</th>\n",
       "      <th>7</th>\n",
       "      <th>8</th>\n",
       "      <th>9</th>\n",
       "      <th>...</th>\n",
       "      <th>12</th>\n",
       "      <th>13</th>\n",
       "      <th>14</th>\n",
       "      <th>15</th>\n",
       "      <th>16</th>\n",
       "      <th>17</th>\n",
       "      <th>18</th>\n",
       "      <th>19</th>\n",
       "      <th>20</th>\n",
       "      <th>21</th>\n",
       "    </tr>\n",
       "  </thead>\n",
       "  <tbody>\n",
       "    <tr>\n",
       "      <th>0</th>\n",
       "      <td>0.00</td>\n",
       "      <td>635.71</td>\n",
       "      <td>7053.42</td>\n",
       "      <td>3983.68</td>\n",
       "      <td>4450.51</td>\n",
       "      <td>3524.03</td>\n",
       "      <td>7753.18</td>\n",
       "      <td>3058.51</td>\n",
       "      <td>3996.68</td>\n",
       "      <td>2046.35</td>\n",
       "      <td>...</td>\n",
       "      <td>3184.58</td>\n",
       "      <td>5916.88</td>\n",
       "      <td>5614.71</td>\n",
       "      <td>6913.38</td>\n",
       "      <td>1935.96</td>\n",
       "      <td>6168.99</td>\n",
       "      <td>2349.44</td>\n",
       "      <td>4934.98</td>\n",
       "      <td>2218.59</td>\n",
       "      <td>6091.06</td>\n",
       "    </tr>\n",
       "    <tr>\n",
       "      <th>1</th>\n",
       "      <td>635.71</td>\n",
       "      <td>0.00</td>\n",
       "      <td>6564.96</td>\n",
       "      <td>3495.22</td>\n",
       "      <td>3962.05</td>\n",
       "      <td>3035.57</td>\n",
       "      <td>10709.99</td>\n",
       "      <td>3223.62</td>\n",
       "      <td>3508.22</td>\n",
       "      <td>1557.89</td>\n",
       "      <td>...</td>\n",
       "      <td>2696.12</td>\n",
       "      <td>5428.42</td>\n",
       "      <td>5126.25</td>\n",
       "      <td>6424.92</td>\n",
       "      <td>1447.50</td>\n",
       "      <td>5680.53</td>\n",
       "      <td>1860.98</td>\n",
       "      <td>4446.52</td>\n",
       "      <td>1730.14</td>\n",
       "      <td>5602.60</td>\n",
       "    </tr>\n",
       "    <tr>\n",
       "      <th>2</th>\n",
       "      <td>6699.63</td>\n",
       "      <td>6211.17</td>\n",
       "      <td>0.00</td>\n",
       "      <td>4476.63</td>\n",
       "      <td>8260.93</td>\n",
       "      <td>5561.81</td>\n",
       "      <td>15035.00</td>\n",
       "      <td>5838.20</td>\n",
       "      <td>5241.38</td>\n",
       "      <td>5661.26</td>\n",
       "      <td>...</td>\n",
       "      <td>4173.81</td>\n",
       "      <td>4067.51</td>\n",
       "      <td>4829.56</td>\n",
       "      <td>5635.09</td>\n",
       "      <td>5746.39</td>\n",
       "      <td>8454.55</td>\n",
       "      <td>4716.79</td>\n",
       "      <td>9640.36</td>\n",
       "      <td>5150.87</td>\n",
       "      <td>4241.69</td>\n",
       "    </tr>\n",
       "    <tr>\n",
       "      <th>3</th>\n",
       "      <td>4470.10</td>\n",
       "      <td>3981.64</td>\n",
       "      <td>3069.76</td>\n",
       "      <td>0.00</td>\n",
       "      <td>6031.41</td>\n",
       "      <td>3332.29</td>\n",
       "      <td>14852.28</td>\n",
       "      <td>3608.67</td>\n",
       "      <td>3804.93</td>\n",
       "      <td>3431.73</td>\n",
       "      <td>...</td>\n",
       "      <td>1944.28</td>\n",
       "      <td>6116.90</td>\n",
       "      <td>5422.96</td>\n",
       "      <td>4796.51</td>\n",
       "      <td>3516.86</td>\n",
       "      <td>6159.43</td>\n",
       "      <td>2487.26</td>\n",
       "      <td>4170.89</td>\n",
       "      <td>2921.34</td>\n",
       "      <td>6291.08</td>\n",
       "    </tr>\n",
       "    <tr>\n",
       "      <th>4</th>\n",
       "      <td>4637.54</td>\n",
       "      <td>4149.08</td>\n",
       "      <td>8679.05</td>\n",
       "      <td>5609.31</td>\n",
       "      <td>0.00</td>\n",
       "      <td>5149.67</td>\n",
       "      <td>9166.63</td>\n",
       "      <td>5337.72</td>\n",
       "      <td>5622.32</td>\n",
       "      <td>3040.66</td>\n",
       "      <td>...</td>\n",
       "      <td>4810.22</td>\n",
       "      <td>7542.52</td>\n",
       "      <td>7240.35</td>\n",
       "      <td>4227.68</td>\n",
       "      <td>2653.41</td>\n",
       "      <td>1415.90</td>\n",
       "      <td>3975.07</td>\n",
       "      <td>2249.28</td>\n",
       "      <td>3844.23</td>\n",
       "      <td>7716.70</td>\n",
       "    </tr>\n",
       "  </tbody>\n",
       "</table>\n",
       "<p>5 rows × 22 columns</p>\n",
       "</div>"
      ],
      "text/plain": [
       "        0        1        2        3        4        5         6        7   \\\n",
       "0     0.00   635.71  7053.42  3983.68  4450.51  3524.03   7753.18  3058.51   \n",
       "1   635.71     0.00  6564.96  3495.22  3962.05  3035.57  10709.99  3223.62   \n",
       "2  6699.63  6211.17     0.00  4476.63  8260.93  5561.81  15035.00  5838.20   \n",
       "3  4470.10  3981.64  3069.76     0.00  6031.41  3332.29  14852.28  3608.67   \n",
       "4  4637.54  4149.08  8679.05  5609.31     0.00  5149.67   9166.63  5337.72   \n",
       "\n",
       "        8        9    ...          12       13       14       15       16  \\\n",
       "0  3996.68  2046.35   ...     3184.58  5916.88  5614.71  6913.38  1935.96   \n",
       "1  3508.22  1557.89   ...     2696.12  5428.42  5126.25  6424.92  1447.50   \n",
       "2  5241.38  5661.26   ...     4173.81  4067.51  4829.56  5635.09  5746.39   \n",
       "3  3804.93  3431.73   ...     1944.28  6116.90  5422.96  4796.51  3516.86   \n",
       "4  5622.32  3040.66   ...     4810.22  7542.52  7240.35  4227.68  2653.41   \n",
       "\n",
       "        17       18       19       20       21  \n",
       "0  6168.99  2349.44  4934.98  2218.59  6091.06  \n",
       "1  5680.53  1860.98  4446.52  1730.14  5602.60  \n",
       "2  8454.55  4716.79  9640.36  5150.87  4241.69  \n",
       "3  6159.43  2487.26  4170.89  2921.34  6291.08  \n",
       "4  1415.90  3975.07  2249.28  3844.23  7716.70  \n",
       "\n",
       "[5 rows x 22 columns]"
      ]
     },
     "metadata": {},
     "output_type": "display_data"
    }
   ],
   "source": [
    "response = client.distance_matrix(locations=df_CVRP.iloc[:, :2].as_matrix().tolist(), metrics=['distance'])\n",
    "dist_matrix = np.array(response['distances'])\n",
    "df_dist_matrix = pd.DataFrame(dist_matrix)\n",
    "display(df_dist_matrix.head())"
   ]
  },
  {
   "cell_type": "markdown",
   "metadata": {},
   "source": [
    "As we can see the openrouteservice API returns a symmetric distance matrix with the diagonal being zeros, since the distance of every node to itself is zero. In the next step, we use the or-tool on the obtained distance matrix. For this purpose, we first initialize some variables and declare the or-tool solver:"
   ]
  },
  {
   "cell_type": "code",
   "execution_count": 16,
   "metadata": {
    "collapsed": true
   },
   "outputs": [],
   "source": [
    "locations = df_CVRP.iloc[:, :2].as_matrix()\n",
    "demands = df_CVRP.iloc[:, 2].as_matrix()\n",
    "num_locations = len(locations)\n",
    "depot = 0    # The depot is the start and end point of each route.\n",
    "num_vehicles = 4\n",
    "\n",
    "# Create routing model.\n",
    "routing = pywrapcp.RoutingModel(num_locations, num_vehicles, depot)\n",
    "search_parameters = pywrapcp.RoutingModel.DefaultModelParameters()"
   ]
  },
  {
   "cell_type": "markdown",
   "metadata": {},
   "source": [
    "The SetArcCostEvaluatorOfAllVehicles() method of the or-tool requires a callable object. Therefore we have to wrap the distance matrix and the demands within a class with suitable methods that can be called by the SetArcCostEvaluatorOfAllVehicles() method. "
   ]
  },
  {
   "cell_type": "code",
   "execution_count": 17,
   "metadata": {
    "collapsed": true
   },
   "outputs": [],
   "source": [
    "class matrix_obj(object):\n",
    "    def __init__(self, matrix):\n",
    "        self.matrix = matrix\n",
    "    def Distance(self, from_node, to_node):\n",
    "        return self.matrix[from_node][to_node]\n",
    "    \n",
    "class demand_obj(object):\n",
    "    def __init__(self, demands):\n",
    "        self.demands = demands\n",
    "    def Demand(self, from_node, to_node):\n",
    "        return self.demands[from_node]\n",
    "    \n",
    "# distance callback\n",
    "dist_matrix_obj = matrix_obj(dist_matrix)\n",
    "dist_callback = dist_matrix_obj.Distance\n",
    "routing.SetArcCostEvaluatorOfAllVehicles(dist_callback)\n",
    "\n",
    "# demand callback\n",
    "demands_obj = demand_obj(demands)\n",
    "demands_callback = demands_obj.Demand"
   ]
  },
  {
   "cell_type": "markdown",
   "metadata": {},
   "source": [
    "Routing problems involve quantities that accumulate along a vehicle's route. The routing solver stores each quantity of this type in an object called a dimension. We now need to add the demand as a new dimension to the routing model. We can do this with the AddDimension() method by providing the demand callback and the vehicle capacity, which is 100 in our case. For every location where a vehicle stops along its route, the total demand on the vehicle increases by the demand at that location.  "
   ]
  },
  {
   "cell_type": "code",
   "execution_count": 18,
   "metadata": {},
   "outputs": [
    {
     "data": {
      "text/plain": [
       "True"
      ]
     },
     "execution_count": 18,
     "metadata": {},
     "output_type": "execute_result"
    }
   ],
   "source": [
    "routing.AddDimension(demands_callback, 0, 100, True, \"Demand\")"
   ]
  },
  {
   "cell_type": "markdown",
   "metadata": {},
   "source": [
    "The last step is to solve the routing model and display the solution:"
   ]
  },
  {
   "cell_type": "code",
   "execution_count": null,
   "metadata": {
    "collapsed": true
   },
   "outputs": [],
   "source": [
    "assignment = routing.SolveWithParameters(search_parameters) # this line is responsible for jupyter kernel crash, reason unknown"
   ]
  },
  {
   "cell_type": "code",
   "execution_count": null,
   "metadata": {
    "collapsed": true
   },
   "outputs": [],
   "source": [
    "\n",
    "\n",
    "'''\n",
    "if assignment:\n",
    "    print(\"Total distance of all routes: \" + str(assignment.ObjectiveValue()) + \"\\n\")\n",
    "    for vehicle_nbr in range(num_vehicles):\n",
    "        index = routing.Start(vehicle_nbr)\n",
    "        index_next = assignment.Value(routing.NextVar(index))\n",
    "        route = ''\n",
    "        route_dist = 0\n",
    "        route_demand = 0\n",
    "\n",
    "        while (not routing.IsEnd(index_next)):\n",
    "            node_index = routing.IndexToNode(index)\n",
    "            node_index_next = routing.IndexToNode(index_next)\n",
    "            route += str(node_index) + \" -> \"\n",
    "            # Add the distance to the next node.\n",
    "            route_dist += dist_callback(node_index, node_index_next)\n",
    "            # Add demand.\n",
    "            route_demand += demands[node_index_next]\n",
    "            index = index_next\n",
    "            index_next = assignment.Value(routing.NextVar(index))\n",
    "\n",
    "        node_index = routing.IndexToNode(index)\n",
    "        node_index_next = routing.IndexToNode(index_next)\n",
    "        route += str(node_index) + \" -> \" + str(node_index_next)\n",
    "        route_dist += dist_callback(node_index, node_index_next)\n",
    "        print(\"Route for vehicle \" + str(vehicle_nbr) + \":\\n\\n\" + route + \"\\n\")\n",
    "        print(\"Distance of route \" + str(vehicle_nbr) + \": \" + str(route_dist))\n",
    "        print(\"Demand met by vehicle \" + str(vehicle_nbr) + \": \" + str(route_demand) + \"\\n\")\n",
    "else:\n",
    "    print('No solution found.')\n",
    "'''"
   ]
  },
  {
   "cell_type": "code",
   "execution_count": null,
   "metadata": {
    "collapsed": true
   },
   "outputs": [],
   "source": [
    "help(pywrapcp.RoutingModel.SolveWithParameters())"
   ]
  },
  {
   "cell_type": "markdown",
   "metadata": {
    "collapsed": true
   },
   "source": [
    "# Adding Time Window Constraint"
   ]
  },
  {
   "cell_type": "code",
   "execution_count": null,
   "metadata": {
    "collapsed": true
   },
   "outputs": [],
   "source": []
  }
 ],
 "metadata": {
  "kernelspec": {
   "display_name": "Python 3",
   "language": "python",
   "name": "python3"
  },
  "language_info": {
   "codemirror_mode": {
    "name": "ipython",
    "version": 3
   },
   "file_extension": ".py",
   "mimetype": "text/x-python",
   "name": "python",
   "nbconvert_exporter": "python",
   "pygments_lexer": "ipython3",
   "version": "3.6.1"
  }
 },
 "nbformat": 4,
 "nbformat_minor": 2
}

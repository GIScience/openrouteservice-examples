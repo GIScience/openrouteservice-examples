{
 "cells": [
  {
   "cell_type": "markdown",
   "metadata": {},
   "source": [
    "# Setting up a capacitated routing problem"
   ]
  },
  {
   "cell_type": "markdown",
   "metadata": {},
   "source": [
    "This jupytur notebook goes through the creation of a capacitated vehicle routing problem for the [**ors-example**](Link to be added). First, we import some necessary packages."
   ]
  },
  {
   "cell_type": "code",
   "execution_count": null,
   "metadata": {
    "collapsed": false
   },
   "outputs": [],
   "source": [
    "from IPython.display import display, HTML\n",
    "import openrouteservice\n",
    "import folium\n",
    "from shapely import wkt, geometry\n",
    "import numpy as np \n",
    "import pandas as pd\n",
    "import matplotlib.pyplot as plt\n",
    "import matplotlib.patches as mpatches\n",
    "%matplotlib inline"
   ]
  },
  {
   "cell_type": "markdown",
   "metadata": {},
   "source": [
    "For the capacitated vehicle routing problem we will use the [**dataset from \"Augerat, et al. Set A\"**](https://www.coin-or.org/SYMPHONY/branchandcut/VRP/data/index.htm.old#A). The dataset contains 32 nodes (including 1 depot) with their demands and 5 vehicles with a capacity of 100 each. We first import the dataset and extract the relevant information from the dataset. The following table shows the extracted data. The x-coordinates and y-coordinates represent the position of the nodes. The column \"demand\" shows the \"demanded order\" that needs to be delivered to the respective node. The node with zero demand is the depot (first node).  "
   ]
  },
  {
   "cell_type": "code",
   "execution_count": null,
   "metadata": {
    "collapsed": false
   },
   "outputs": [],
   "source": [
    "def str_to_num(lst_2d, num_type='int'):\n",
    "    for i, item in enumerate(lst_2d):\n",
    "        for j, num in enumerate(item):\n",
    "            if num_type == 'int':\n",
    "                lst_2d[i][j] = int(num)\n",
    "            elif num_type == 'float':\n",
    "                lst_2d[i][j] = float(num)\n",
    "    return lst_2d\n",
    "\n",
    "def read_file(file_path): # \"A-n32-k5.vrp\"\n",
    "    decider = 0 \n",
    "    nodes = []\n",
    "    demands = []\n",
    "    with open(file_path, 'r') as file:\n",
    "        for line in file:\n",
    "            if line == 'NODE_COORD_SECTION \\n':\n",
    "                decider = 1\n",
    "            elif line == 'DEMAND_SECTION \\n':\n",
    "                decider = 2\n",
    "            elif line == 'DEPOT_SECTION \\n':\n",
    "                decider = 0\n",
    "        \n",
    "            if decider == 0:\n",
    "                continue\n",
    "            elif decider == 1:\n",
    "                nodes.append(line.lstrip().rstrip().split(' '))\n",
    "            elif decider == 2:\n",
    "                demands.append(line.lstrip().rstrip().split(' '))\n",
    "    file.close()\n",
    "    nodes = np.delete(np.array(str_to_num(nodes[1:])), 0, 1)\n",
    "    demands = np.delete(np.array(str_to_num(demands[1:])), 0, 1)\n",
    "    data = np.concatenate((nodes, demands), axis=1)\n",
    "    return data\n",
    "\n",
    "data = read_file(\"A-n32-k5.vrp\")\n",
    "df_data = pd.DataFrame(data, columns=['x-coordinate', 'y-coordinate', 'demand'])\n",
    "df_data.columns.name = 'node number'\n",
    "display(df_data)"
   ]
  },
  {
   "cell_type": "markdown",
   "metadata": {},
   "source": [
    "To give the rather abtract problem a real world application, we map the nodes to locations in the german city Heidelberg. First, we need to calculate the borders of Heidelberg. For this endeavor, we use the open street map and a [**python script**](http://polygons.openstreetmap.fr/index.py) to compute the polygon representing the borders of Heidelberg. The generated file needs to be read into our jupyter notebook and prepared in such a way that it is useful for further processing steps. Furthermore, we compute the centroid of the polygon and plot it with the folium package to visualize the polygon and double-check, if everything went well. "
   ]
  },
  {
   "cell_type": "code",
   "execution_count": null,
   "metadata": {
    "collapsed": false
   },
   "outputs": [],
   "source": [
    "def read_file_polygon(file_path): # 'HD_polygon.txt'\n",
    "    with open(file_path, 'r') as file:\n",
    "        polygon = []\n",
    "        for line in file:\n",
    "            polygon.append(line.lstrip().rstrip().split('\\t'))\n",
    "        polygon = np.array(str_to_num(polygon, 'float'))\n",
    "    file.close()\n",
    "    return polygon\n",
    "\n",
    "def get_geometry_polygon(polygon):\n",
    "    polygon_str = \"\"\n",
    "    for item in polygon:\n",
    "        polygon_str += str(item)[2:-1] + \", \" \n",
    "    polygon_str = 'Polygon ((' + polygon_str[:-2] + '))'    \n",
    "    poly_geom = wkt.loads(polygon_str) # load geometry from Polygon string\n",
    "    poly_coords = list(poly_geom.exterior.coords) # get coords from exterior ring\n",
    "    poly_coords = [(y,x) for x,y in poly_coords] # swap (x,y) to (y,x). Really leaflet?!\n",
    "    poly_centroid = poly_geom.centroid \n",
    "    return poly_coords, poly_centroid\n",
    "\n",
    "def plot_polygon(poly_coords, poly_centroid):\n",
    "    polygon_map = folium.Map(tiles='stamenterrain',location=(poly_centroid.y, poly_centroid.x), zoom_start=12)\n",
    "    folium.Marker([poly_centroid.y, poly_centroid.x], popup='<strong>Polygon Centroid</strong>').add_to(polygon_map)\n",
    "    folium.features.PolygonMarker(poly_coords, popup='Heidelberg Polygon', color='#000000', fill_color='#140e8c', fill_opacity=0.2, weight=3).add_to(polygon_map)\n",
    "    display(polygon_map)\n",
    "\n",
    "polygon = read_file_polygon('HD_polygon.txt')\n",
    "poly_coords, poly_centroid = get_geometry_polygon(polygon)\n",
    "plot_polygon(poly_coords, poly_centroid)"
   ]
  },
  {
   "cell_type": "markdown",
   "metadata": {},
   "source": [
    "Now, we need to transform the nodes coordinates in such way that they are within the polygon borders of Heidelberg, while maintaining their spacial structure. Keep in mind that the border of the Heidelberg polygon are giving in latitude and longitude, whereas the [**dataset from \"Augerat, et al. Set A\"**](https://www.coin-or.org/SYMPHONY/branchandcut/VRP/data/index.htm.old#A) assumes cartesian coordinates. To ensure comparability between the node positions and the Heidelberg polygon, we could use the Mercator projection:\n",
    "\n",
    "$$latitude = arcsin(tanh(y))$$\n",
    "\n",
    "$$longitude = x + \\lambda_0$$\n",
    "\n",
    "where $\\lambda_0$ is the longitude of the map center. However, to simply things we will just says (compare Notes):\n",
    "\n",
    "$$latitude = y$$\n",
    "\n",
    "$$longitude = x$$\n",
    "\n",
    "To get a rough idea of the result, we can first plot the nodes positions as well as the polygon and compare them to each other. \n",
    "\n",
    "### Notes:\n",
    "The capacitated vehicle routing problem is rotation and linear translation invariant. Furthermore, we do not care too much about exactly representing the initial capacitated vehicle routing problem, but rather generating our own CVR problem using the provided dataset. This approach will prevent us from creating a CVR problem that is constructed in a bias way to fit our solution. NO CHEATING ALLOWED!!  "
   ]
  },
  {
   "cell_type": "code",
   "execution_count": null,
   "metadata": {
    "collapsed": false
   },
   "outputs": [],
   "source": [
    "fig, ax = plt.subplots(1, 2, figsize=(14,5))\n",
    "ax[0].scatter(data[:,0], data[:,1], c= 'g')\n",
    "ax[0].set_xlabel('longitude')\n",
    "ax[0].set_ylabel('latitude')\n",
    "ax[0].set_title('Visualization of Node positions')\n",
    "ax[0].grid(True)\n",
    "ax[1].scatter(polygon[:, 0], polygon[:, 1], c='b') \n",
    "ax[1].set_xlabel('longitude')\n",
    "ax[1].set_ylabel('latitude')\n",
    "ax[1].set_title('Visualization of Heidelberg polygon')\n",
    "ax[1].grid(True)\n",
    "plt.show()"
   ]
  },
  {
   "cell_type": "markdown",
   "metadata": {},
   "source": [
    "A closer look at the axes of both diagrams reveal that the node positions have a different order of magnitude compared to the polygon. To correct the discrepancy between node positions and polygon, we first compute the centroid of the node positions and then do a linear translation of all nodes such that the centroid of the node positions has the same coordinates as the centroid of the polygon. In the final step, we will move all nodes towards their centroid until all nodes are within the polygon. "
   ]
  },
  {
   "cell_type": "code",
   "execution_count": null,
   "metadata": {
    "collapsed": false
   },
   "outputs": [],
   "source": [
    "def point_in_polygon(polygon, point):\n",
    "    polygon_obj = geometry.polygon.Polygon(polygon)\n",
    "    point_obj = geometry.Point(point)\n",
    "    return polygon_obj.contains(point_obj)\n",
    "\n",
    "def move_to_centroid(points, polygon, centroid, move_rate = 0.1):\n",
    "    counter = 1\n",
    "    while True:\n",
    "        any_point_outside = False\n",
    "        for point in points:\n",
    "            if point_in_polygon(polygon, point):\n",
    "                continue\n",
    "            any_point_outside = True\n",
    "        if any_point_outside:\n",
    "            trans_vectors = centroid - points\n",
    "            points += move_rate * trans_vectors\n",
    "            fig, ax = plt.subplots(figsize=(12,10))\n",
    "            ax.scatter(points[:,0], points[:,1], c= 'g')\n",
    "            ax.scatter(np.mean(points, axis=0)[0], np.mean(points, axis=0)[1], c='r')\n",
    "            ax.scatter(polygon[:, 0], polygon[:, 1], c='b')\n",
    "            ax.set_xlabel('longitude')\n",
    "            ax.set_ylabel('latitude')\n",
    "            ax.set_title('Visualization of move to centroid algorithm, Iteration {}'.format(counter))\n",
    "            ax.grid(True)\n",
    "            green_patch = mpatches.Patch(color='green', label='nodes')\n",
    "            red_patch = mpatches.Patch(color='red', label='centroid')\n",
    "            blue_patch = mpatches.Patch(color='blue', label='Heidelberg polygon')\n",
    "            plt.legend(handles=[green_patch, red_patch, blue_patch])    \n",
    "            plt.show()\n",
    "            counter += 1\n",
    "        else:\n",
    "            break \n",
    "    return np.array(points)\n",
    "\n",
    "data_mean = np.mean(data, axis=0)\n",
    "trans_vector = [poly_centroid.x, poly_centroid.y] - data_mean[:-1] \n",
    "nodes_centered = data[:,:-1] + trans_vector\n",
    "nodes_norm = move_to_centroid(nodes_centered, polygon, [poly_centroid.x, poly_centroid.y])"
   ]
  },
  {
   "cell_type": "markdown",
   "metadata": {},
   "source": [
    "Here, the blue points represents the polygon borders of Heidelberg, the green points the nodes and the red point the centroid of the polygon and the nodes. The end result of the transformation is:"
   ]
  },
  {
   "cell_type": "code",
   "execution_count": null,
   "metadata": {
    "collapsed": false
   },
   "outputs": [],
   "source": [
    "fig, ax = plt.subplots(figsize=(12,10))\n",
    "ax.scatter(nodes_norm[:,0], nodes_norm[:,1], c= 'g')\n",
    "ax.scatter(np.mean(nodes_norm, axis=0)[0], np.mean(nodes_norm, axis=0)[1], c='r')\n",
    "ax.scatter(polygon[:, 0], polygon[:, 1], c='b')\n",
    "ax.scatter(np.mean(nodes_centered, axis=0)[0], np.mean(nodes_centered, axis=0)[1], c='r')\n",
    "ax.set_xlabel('longitude')\n",
    "ax.set_ylabel('latitude')\n",
    "ax.set_title('Visualization of the transformed node positions and the Heidelberg Polygon')\n",
    "ax.grid(True)\n",
    "green_patch = mpatches.Patch(color='green', label='nodes')\n",
    "red_patch = mpatches.Patch(color='red', label='centroid')\n",
    "blue_patch = mpatches.Patch(color='blue', label='Heidelberg polygon')\n",
    "plt.legend(handles=[green_patch, red_patch, blue_patch])\n",
    "plt.show()      "
   ]
  },
  {
   "cell_type": "markdown",
   "metadata": {},
   "source": [
    "Now, we can plot the nodes and the polygon borders with folium, where the red marker represents the centroid, the blue marker the depot and the green markers the remaining nodes (all nodes that are not depots):"
   ]
  },
  {
   "cell_type": "code",
   "execution_count": null,
   "metadata": {
    "collapsed": false
   },
   "outputs": [],
   "source": [
    "def plot_polygon_with_nodes(polygon, points, centroid, marker_names = None, demands = None):\n",
    "    plot_map = folium.Map(tiles='stamenterrain',location=(centroid.y, centroid.x), zoom_start=12)\n",
    "    folium.Marker([centroid.y, centroid.x], popup='<strong>Centroid</strong>', icon=folium.Icon(color='red', icon=None)).add_to(plot_map)\n",
    "    folium.Marker(points[0, ::-1], popup='<strong>Depot</strong>', icon=folium.Icon(color='blue',icon_color='black', icon='home' , prefix='fa')).add_to(plot_map) # icon warehouse does not work\n",
    "    if marker_names == None and demands == None:\n",
    "        for counter, point in enumerate(points[1:]):\n",
    "            folium.Marker(point[::-1], popup='<strong>Node {}</strong>'.format(counter+1), icon=folium.Icon(color='green', icon_color='black', icon='child', prefix='fa')).add_to(plot_map) # icon box does not work\n",
    "    elif demands == None:\n",
    "        for counter, point in enumerate(points[1:]):\n",
    "            folium.Marker(point[::-1], popup='<strong>Node {}:</strong> {}'.format(counter+1, marker_names[counter]), icon=folium.Icon(color='green', icon_color='black', icon='child', prefix='fa')).add_to(plot_map) # icon box does not work\n",
    "    elif marker_names == None:\n",
    "        for counter, point in enumerate(points[1:]):\n",
    "            folium.Marker(point[::-1], popup='<strong>Node {}</strong><br>demand: {}'.format(counter+1, demands[counter]), icon=folium.Icon(color='green', icon_color='black', icon='child', prefix='fa')).add_to(plot_map) # icon box does not work\n",
    "    else:\n",
    "        for counter, point in enumerate(points[1:]):\n",
    "            folium.Marker(point[::-1], popup='<strong>Node {}:</strong> {} <br>demand: {}'.format(counter+1, marker_names[counter], demands[counter]), icon=folium.Icon(color='green', icon_color='black', icon='child', prefix='fa')).add_to(plot_map) # icon box does not work\n",
    "    folium.features.PolygonMarker(polygon, popup='Heidelberg Polygon', color='#000000', fill_color='#140e8c', fill_opacity=0.2, weight=3).add_to(plot_map)\n",
    "    display(plot_map)\n",
    "    \n",
    "plot_polygon_with_nodes(poly_coords, nodes_norm, poly_centroid)"
   ]
  },
  {
   "cell_type": "markdown",
   "metadata": {},
   "source": [
    "As we can see some of the nodes are not in the city of Heidelberg, but somewhere in the mountain. We can shift them a bit by linear translation to get more nodes that are actually reachable by our delivery vehicles. Recall that any linear translation or rotation does not inherently change the problem. Mathematically, it remains the same problem."
   ]
  },
  {
   "cell_type": "code",
   "execution_count": null,
   "metadata": {
    "collapsed": false
   },
   "outputs": [],
   "source": [
    "nodes_norm_shift = nodes_norm + np.array([-3e-2, -1e-2])\n",
    "plot_polygon_with_nodes(poly_coords, nodes_norm_shift, poly_centroid)"
   ]
  },
  {
   "cell_type": "markdown",
   "metadata": {},
   "source": [
    "Some of the nodes are still not reachable by vehicles, especially the nodes on the bottom left corner. To solve this issue, we will use the openrouteservice API for reverse geocoding the nodes. Thereby, the geographical coordinates of the nodes will be converted into addresses of the next enclosing object with an address tag. First, we need an API-key, which can be obtained at [**Openrouteservice**](https://openrouteservice.org/sign-up/) for free by signing up as a developer. Using the API reserve geocoding feature, we get real-world addresses for the nodes. For all functions provided by the openrouteservice API refer to the [**documentation**](https://openrouteservice.org/documentation/#/reference/directions/directions/geocoding-service)."
   ]
  },
  {
   "cell_type": "code",
   "execution_count": null,
   "metadata": {
    "collapsed": false
   },
   "outputs": [],
   "source": [
    "api_key = '58d904a497c67e00015b45fc9298e8d961e64b48b066a43e51d39887'\n",
    "client = openrouteservice.Client(key=api_key)\n",
    "\n",
    "name_lst = []\n",
    "for node in nodes_norm_shift.tolist():\n",
    "    response = client.reverse_geocode(location=node)\n",
    "    name = response['features'][0]['properties']['name'] \n",
    "    name_lst.append(name)\n",
    "    \n",
    "df_address = pd.DataFrame(name_lst, columns=['address obtained by reverse geocoding'])\n",
    "df_address.columns.name = 'node number'\n",
    "df_address['demand'] = df_data['demand']\n",
    "display(df_address)"
   ]
  },
  {
   "cell_type": "markdown",
   "metadata": {},
   "source": [
    "Using the geocode feature of the openrouteservice API, we obtain the x- and y-coordinates of the nodes back. Using reverse geocoding and than geocoded the addresses back to coordinates ensures that all node coordinates represent real-world streets making the generated problem solvable in the first place. "
   ]
  },
  {
   "cell_type": "code",
   "execution_count": null,
   "metadata": {
    "collapsed": false
   },
   "outputs": [],
   "source": [
    "geocoded_nodes = []\n",
    "for name in name_lst:\n",
    "    response = client.geocode(query={\"address\": name, \"locality\": \"Heidelberg\", \"country\": \"Germany\", \"postalcode\": \"69120\"})\n",
    "    geocode = response['features'][0]['geometry']['coordinates']\n",
    "    geocoded_nodes.append(geocode)\n",
    "nodes = np.array(geocoded_nodes)\n",
    "df_nodes = pd.DataFrame(nodes, columns=['longitude', 'latitude'])\n",
    "df_nodes.columns.name = 'node number'\n",
    "df_nodes['demand'] = df_data['demand']\n",
    "df_nodes['address'] = pd.Series(name_lst).values\n",
    "display(df_nodes)"
   ]
  },
  {
   "cell_type": "markdown",
   "metadata": {},
   "source": [
    "The downside is that originally different nodes might have the same coordinates after the geocoding process. Node 1, 2, 6, 8, 9, 16, 20, 23, 27 and 28 have the same coordinate as well as node 10 and 11. We will delete those node duplicates and calculate how many demands were deleted in the process. "
   ]
  },
  {
   "cell_type": "code",
   "execution_count": null,
   "metadata": {
    "collapsed": false
   },
   "outputs": [],
   "source": [
    "to_delete_indices = [2, 6, 8, 9, 16, 20, 23, 27, 28, 11]\n",
    "sum_deleted_demand = 0\n",
    "for i in to_delete_indices:\n",
    "    sum_deleted_demand += data[:, -1][i]\n",
    "unique_nodes = np.delete(nodes, to_delete_indices, axis=0)\n",
    "demands = np.delete(data[:, -1], to_delete_indices)\n",
    "names = np.delete(name_lst, to_delete_indices)\n",
    "print(\"{} demands were deleted in this process.\".format(sum_deleted_demand))\n",
    "print(\"There are {} remaining nodes (excluding the depot) after the deleting process.\".format(len(unique_nodes) - 1))"
   ]
  },
  {
   "cell_type": "markdown",
   "metadata": {},
   "source": [
    "To accommodate for the 138 deleted demands, we reduce the number of vehicle from 5 to 4 (reminder: a vehicle has a capacity of 100). The remaining 38 demands will be randomly distributed among the 21 nodes. The end result is the generated capacitated vehicle routing problem (CVRP) that we will attempt to solve."
   ]
  },
  {
   "cell_type": "code",
   "execution_count": null,
   "metadata": {
    "collapsed": false
   },
   "outputs": [],
   "source": [
    "for node_num in np.random.randint(1, 22, size=38):\n",
    "    demands[node_num] += 1\n",
    "df_CVRP = pd.DataFrame(unique_nodes, columns=['longitude', 'latitude'])\n",
    "df_CVRP.columns.name = 'node number'\n",
    "df_CVRP['demand'] = pd.Series(demands).values\n",
    "df_CVRP['address'] = pd.Series(names).values\n",
    "display(df_CVRP)"
   ]
  },
  {
   "cell_type": "markdown",
   "metadata": {},
   "source": [
    "For visualization we plot the end version of the generated capacitated vehicle routing problem:"
   ]
  },
  {
   "cell_type": "code",
   "execution_count": null,
   "metadata": {
    "collapsed": false
   },
   "outputs": [],
   "source": [
    "plot_polygon_with_nodes(poly_coords, unique_nodes, poly_centroid, list(names), list(demands))"
   ]
  },
  {
   "cell_type": "markdown",
   "metadata": {
    "collapsed": true
   },
   "source": [
    "Finally, we save the generated capacitated vehicle routing problem in a csv file for further usage."
   ]
  },
  {
   "cell_type": "code",
   "execution_count": null,
   "metadata": {
    "collapsed": true
   },
   "outputs": [],
   "source": [
    "df_CVRP.to_csv(\"capacitated vehicle routing problem\")\n",
    "print(poly_coords, poly_centroid)"
   ]
  }
 ],
 "metadata": {
  "kernelspec": {
   "display_name": "Python 3",
   "language": "python",
   "name": "python3"
  },
  "language_info": {
   "codemirror_mode": {
    "name": "ipython",
    "version": 3
   },
   "file_extension": ".py",
   "mimetype": "text/x-python",
   "name": "python",
   "nbconvert_exporter": "python",
   "pygments_lexer": "ipython3",
   "version": "3.6.0"
  }
 },
 "nbformat": 4,
 "nbformat_minor": 2
}
